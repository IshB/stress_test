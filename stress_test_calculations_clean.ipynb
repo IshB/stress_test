{
 "cells": [
  {
   "cell_type": "markdown",
   "metadata": {},
   "source": [
    "# Portfolio Stress Test - Delta Calculations (Clean Version)\n",
    "\n",
    "This notebook calculates portfolio delta exposure by:\n",
    "1. Loading preprocessed position data\n",
    "2. **Filtering options to only include Source = 'options-data-range'**\n",
    "3. Calculating delta for each position type\n",
    "4. Creating clean breakdown by token (Spot/Future/Options)\n",
    "5. Running stress test scenarios"
   ]
  },
  {
   "cell_type": "code",
   "execution_count": 2,
   "metadata": {},
   "outputs": [],
   "source": [
    "import pandas as pd\n",
    "import numpy as np\n",
    "from scipy.stats import norm\n",
    "from datetime import datetime, timedelta\n",
    "import warnings\n",
    "warnings.filterwarnings('ignore')\n",
    "\n",
    "# Display options for better output - no scientific notation\n",
    "pd.set_option('display.max_columns', None)\n",
    "pd.set_option('display.width', None)\n",
    "pd.set_option('display.max_colwidth', 30)\n",
    "pd.set_option('display.float_format', '{:.8f}'.format)\n",
    "np.set_printoptions(suppress=True)"
   ]
  },
  {
   "cell_type": "markdown",
   "metadata": {},
   "source": [
    "## Step 1: Load and Filter Data"
   ]
  },
  {
   "cell_type": "code",
   "execution_count": 3,
   "metadata": {},
   "outputs": [
    {
     "name": "stdout",
     "output_type": "stream",
     "text": [
      "Loaded 192 positions\n",
      "Unique tokens: 23\n",
      "Position types: ['Spot', 'Option', 'Future']\n",
      "\n",
      "Option positions by source:\n",
      "  written-off: 114 positions\n",
      "  options-data-range: 31 positions\n",
      "  deribit: 2 positions\n",
      "\n",
      "✅ FILTERED DATA:\n",
      "- Kept: 78 positions\n",
      "- Dropped: 114 positions (non-options-data-range options)\n",
      "- Spot positions: 18\n",
      "- Future positions: 27\n",
      "- Option positions (options-data-range only): 33\n"
     ]
    }
   ],
   "source": [
    "# Load the preprocessed positions data\n",
    "df = pd.read_csv('processed_positions.csv')\n",
    "\n",
    "original_count = len(df)\n",
    "print(f\"Loaded {original_count:,} positions\")\n",
    "print(f\"Unique tokens: {df['Token'].nunique():,}\")\n",
    "print(f\"Position types: {list(df['Position_Type'].unique())}\")\n",
    "\n",
    "# Check options by source\n",
    "option_mask = df['Position_Type'].str.upper() == 'OPTION'\n",
    "if option_mask.any():\n",
    "    print(f\"\\nOption positions by source:\")\n",
    "    option_sources = df[option_mask]['Source'].value_counts()\n",
    "    for source, count in option_sources.items():\n",
    "        print(f\"  {source}: {count:,} positions\")\n",
    "\n",
    "# FILTER: Keep only options with source = 'options-data-range' OR non-option positions\n",
    "filtered_mask = (\n",
    "    (df['Position_Type'].str.upper() != 'OPTION') |  # Keep all non-options\n",
    "    (df['Source'] != 'written-off')  # Keep only options-data-range options + deribit\n",
    ")\n",
    "\n",
    "df = df[filtered_mask].copy()\n",
    "filtered_count = len(df)\n",
    "dropped_count = original_count - filtered_count\n",
    "\n",
    "print(f\"\\n✅ FILTERED DATA:\")\n",
    "print(f\"- Kept: {filtered_count:,} positions\")\n",
    "print(f\"- Dropped: {dropped_count:,} positions (non-options-data-range options)\")\n",
    "print(f\"- Spot positions: {(df['Position_Type'].str.upper() == 'SPOT').sum():,}\")\n",
    "print(f\"- Future positions: {(df['Position_Type'].str.upper() == 'FUTURE').sum():,}\")\n",
    "print(f\"- Option positions (options-data-range only): {(df['Position_Type'].str.upper() == 'OPTION').sum():,}\")"
   ]
  },
  {
   "cell_type": "markdown",
   "metadata": {},
   "source": [
    "## Step 2: Black-Scholes Functions"
   ]
  },
  {
   "cell_type": "code",
   "execution_count": 4,
   "metadata": {},
   "outputs": [
    {
     "name": "stdout",
     "output_type": "stream",
     "text": [
      "Testing Black-Scholes (r=0):\n",
      "ATM Call delta: 0.5199\n",
      "ATM Put delta:  -0.4801\n"
     ]
    }
   ],
   "source": [
    "def black_scholes_delta(S, K, T, r, sigma, option_type='call', token=''):\n",
    "    \"\"\"\n",
    "    Calculate option delta using Black-Scholes model\n",
    "    Interest rate = 0, Uses volatility from data\n",
    "    For ETH options, subtract premium from delta\n",
    "    \"\"\"\n",
    "    debug_eth = token.upper() == 'ETH'\n",
    "    \n",
    "    if debug_eth:\n",
    "        print(f\"\\n--- BLACK-SCHOLES DEBUG for {token} ---\")\n",
    "        print(f\"Inputs: S={S}, K={K}, T={T}, r={r}, sigma={sigma}, type={option_type}\")\n",
    "    \n",
    "    if T <= 0:\n",
    "        # Option expired\n",
    "        if option_type.lower() == 'call':\n",
    "            result = 1.0 if S > K else 0.0\n",
    "        else:  # put\n",
    "            result = -1.0 if S < K else 0.0\n",
    "        if debug_eth:\n",
    "            print(f\"Option expired (T={T}), returning: {result}\")\n",
    "        return result\n",
    "    \n",
    "    if sigma <= 0 or S <= 0 or K <= 0:\n",
    "        if debug_eth:\n",
    "            print(f\"Invalid inputs - sigma={sigma}, S={S}, K={K}, returning 0.0\")\n",
    "        return 0.0\n",
    "    \n",
    "    try:\n",
    "        d1 = (np.log(S / K) + (r + 0.5 * sigma ** 2) * T) / (sigma * np.sqrt(T))\n",
    "        \n",
    "        if debug_eth:\n",
    "            print(f\"d1 calculation: ln({S}/{K}) + ({r} + 0.5*{sigma}²)*{T} / ({sigma}*√{T}) = {d1}\")\n",
    "        \n",
    "        if option_type.lower() == 'call':\n",
    "            delta = norm.cdf(d1)\n",
    "            if debug_eth:\n",
    "                print(f\"Call delta: N(d1) = N({d1}) = {delta}\")\n",
    "        else:  # put\n",
    "            delta = norm.cdf(d1) - 1.0\n",
    "            if debug_eth:\n",
    "                print(f\"Put delta: N(d1) - 1 = N({d1}) - 1 = {delta}\")\n",
    "        \n",
    "        # Store ETH premium info for later spot adjustment (don't adjust option delta)\n",
    "        eth_premium_eth = 0.0\n",
    "        if token.upper() == 'ETH':\n",
    "            premium_usd = black_scholes_premium(S, K, T, r, sigma, option_type)\n",
    "            eth_premium_eth = premium_usd / S  # Convert premium to ETH terms\n",
    "            if debug_eth:\n",
    "                print(f\"ETH premium info (will adjust spot, not option delta):\")\n",
    "                print(f\"  Premium (USD): {premium_usd}\")\n",
    "                print(f\"  Premium (ETH): {eth_premium_eth}\")\n",
    "                print(f\"  Option delta (unadjusted): {delta}\")\n",
    "        \n",
    "        if debug_eth:\n",
    "            print(f\"Final option delta: {delta}\")\n",
    "            print(\"--- END DEBUG ---\\n\")\n",
    "            \n",
    "        return delta, eth_premium_eth if token.upper() == 'ETH' else 0.0\n",
    "    except Exception as e:\n",
    "        if debug_eth:\n",
    "            print(f\"Exception in calculation: {e}\")\n",
    "        return 0.0\n",
    "\n",
    "def calculate_time_to_expiry(expiry_str, current_date=None):\n",
    "    \"\"\"Calculate time to expiry in years from expiry string\"\"\"\n",
    "    if pd.isna(expiry_str) or expiry_str == '':\n",
    "        return 0.0\n",
    "    \n",
    "    if current_date is None:\n",
    "        current_date = datetime.now()\n",
    "    \n",
    "    try:\n",
    "        expiry_str = str(expiry_str).strip()\n",
    "        \n",
    "        # If expiry only has date (no time), append 10:00 for 10:00 UTC\n",
    "        if ':' not in expiry_str and len(expiry_str.split('/')) >= 2:\n",
    "            expiry_str = expiry_str + ' 10:00'\n",
    "            print(f\"DEBUG: Added default time to expiry: '{expiry_str}'\")\n",
    "        \n",
    "        # Comprehensive date formats\n",
    "        date_formats = [\n",
    "            '%d/%m/%Y %H:%M',     # 02/09/2025 10:00\n",
    "            '%d/%m/%Y',           # 02/09/2025 (without time)\n",
    "            '%Y-%m-%d %H:%M',     # 2025-09-02 10:00\n",
    "            '%Y-%m-%d',           # 2025-09-02 (without time)\n",
    "            '%d%b%y %H:%M',       # 26Sep25 09:00 (deribit format)\n",
    "            '%d%B%y %H:%M',       # 26September25 09:00 (full month)\n",
    "            '%d/%b/%Y %H:%M',     # 02/Sep/2025 10:00\n",
    "            '%d/%B/%Y %H:%M',     # 02/September/2025 10:00\n",
    "            '%dSep%y %H:%M',      # Specific months\n",
    "            '%dOct%y %H:%M', \n",
    "            '%dNov%y %H:%M', \n",
    "            '%dDec%y %H:%M',\n",
    "            '%dJan%y %H:%M', \n",
    "            '%dFeb%y %H:%M', \n",
    "            '%dMar%y %H:%M',\n",
    "            '%dApr%y %H:%M', \n",
    "            '%dMay%y %H:%M', \n",
    "            '%dJun%y %H:%M', \n",
    "            '%dJul%y %H:%M',\n",
    "            '%dAug%y %H:%M'\n",
    "        ]\n",
    "        \n",
    "        # Debug print for important dates\n",
    "        if any(month in expiry_str for month in ['Sep', 'Oct', 'Nov', 'Dec', '2025', '2026']) or 'ETH' in str(current_date):\n",
    "            print(f\"DEBUG: Parsing expiry date: '{expiry_str}'\")\n",
    "        \n",
    "        for fmt in date_formats:\n",
    "            try:\n",
    "                expiry_date = datetime.strptime(expiry_str, fmt)\n",
    "                time_diff = (expiry_date - current_date).total_seconds()\n",
    "                years = time_diff / (365.25 * 24 * 3600)\n",
    "                \n",
    "                # Debug for important dates\n",
    "                if any(month in expiry_str for month in ['Sep', 'Oct', 'Nov', 'Dec', '2025', '2026']):\n",
    "                    print(f\"DEBUG: Successfully parsed '{expiry_str}' with format '{fmt}'\")\n",
    "                    print(f\"DEBUG: Expiry date: {expiry_date}\")\n",
    "                    print(f\"DEBUG: Current date: {current_date}\")\n",
    "                    print(f\"DEBUG: Time to expiry (years): {years}\")\n",
    "                \n",
    "                return max(0.0, years)\n",
    "            except:\n",
    "                continue\n",
    "        \n",
    "        print(f\"WARNING: Could not parse expiry date: '{expiry_str}' with any format\")\n",
    "        return 0.0\n",
    "        \n",
    "    except Exception as e:\n",
    "        print(f\"ERROR parsing expiry {expiry_str}: {e}\")\n",
    "        return 0.0\n",
    "\n",
    "def black_scholes_premium(S, K, T, r, sigma, option_type='call'):\n",
    "    \"\"\"\n",
    "    Calculate option premium using Black-Scholes model\n",
    "    \"\"\"\n",
    "    if T <= 0:\n",
    "        # Option expired - intrinsic value only\n",
    "        if option_type.lower() == 'call':\n",
    "            return max(0, S - K)\n",
    "        else:  # put\n",
    "            return max(0, K - S)\n",
    "    \n",
    "    if sigma <= 0 or S <= 0 or K <= 0:\n",
    "        return 0.0\n",
    "    \n",
    "    try:\n",
    "        d1 = (np.log(S / K) + (r + 0.5 * sigma ** 2) * T) / (sigma * np.sqrt(T))\n",
    "        d2 = d1 - sigma * np.sqrt(T)\n",
    "        \n",
    "        if option_type.lower() == 'call':\n",
    "            premium = S * norm.cdf(d1) - K * np.exp(-r * T) * norm.cdf(d2)\n",
    "        else:  # put\n",
    "            premium = K * np.exp(-r * T) * norm.cdf(-d2) - S * norm.cdf(-d1)\n",
    "            \n",
    "        return max(0, premium)\n",
    "    except:\n",
    "        return 0.0\n",
    "\n",
    "# Test functions\n",
    "print(\"Testing Black-Scholes (r=0):\")\n",
    "test_call_result = black_scholes_delta(S=100, K=100, T=0.25, r=0.0, sigma=0.2, option_type='call')\n",
    "test_put_result = black_scholes_delta(S=100, K=100, T=0.25, r=0.0, sigma=0.2, option_type='put')\n",
    "\n",
    "# Handle tuple format for non-ETH options (returns single delta value)\n",
    "if isinstance(test_call_result, tuple):\n",
    "    test_call_delta = test_call_result[0]\n",
    "else:\n",
    "    test_call_delta = test_call_result\n",
    "\n",
    "if isinstance(test_put_result, tuple):\n",
    "    test_put_delta = test_put_result[0]\n",
    "else:\n",
    "    test_put_delta = test_put_result\n",
    "\n",
    "print(f\"ATM Call delta: {test_call_delta:.4f}\")\n",
    "print(f\"ATM Put delta:  {test_put_delta:.4f}\")"
   ]
  },
  {
   "cell_type": "markdown",
   "metadata": {},
   "source": [
    "## Step 3: Calculate Delta for All Positions"
   ]
  },
  {
   "cell_type": "code",
   "execution_count": 5,
   "metadata": {},
   "outputs": [
    {
     "name": "stdout",
     "output_type": "stream",
     "text": [
      "Calculating delta for filtered data...\n",
      "Spot positions: 18 (Delta = 1.0, ETH will be adjusted for option premiums)\n",
      "Future positions: 27 (Delta = 1.0)\n",
      "Option positions: 33 (Black-Scholes, ETH premium adjustment applied to spot)\n",
      "Option sources in filtered data: ['options-data-range', 'deribit']\n",
      "DEBUG: Added default time to expiry: '16/09/2025 10:00'\n",
      "DEBUG: Parsing expiry date: '16/09/2025 10:00'\n",
      "DEBUG: Successfully parsed '16/09/2025 10:00' with format '%d/%m/%Y %H:%M'\n",
      "DEBUG: Expiry date: 2025-09-16 10:00:00\n",
      "DEBUG: Current date: 2025-09-08 09:18:16.349931\n",
      "DEBUG: Time to expiry (years): 0.02198214218029888\n",
      "DEBUG: Added default time to expiry: '16/09/2025 10:00'\n",
      "DEBUG: Parsing expiry date: '16/09/2025 10:00'\n",
      "DEBUG: Successfully parsed '16/09/2025 10:00' with format '%d/%m/%Y %H:%M'\n",
      "DEBUG: Expiry date: 2025-09-16 10:00:00\n",
      "DEBUG: Current date: 2025-09-08 09:18:16.349931\n",
      "DEBUG: Time to expiry (years): 0.02198214218029888\n",
      "DEBUG: Added default time to expiry: '16/09/2025 10:00'\n",
      "DEBUG: Parsing expiry date: '16/09/2025 10:00'\n",
      "DEBUG: Successfully parsed '16/09/2025 10:00' with format '%d/%m/%Y %H:%M'\n",
      "DEBUG: Expiry date: 2025-09-16 10:00:00\n",
      "DEBUG: Current date: 2025-09-08 09:18:16.349931\n",
      "DEBUG: Time to expiry (years): 0.02198214218029888\n",
      "DEBUG: Added default time to expiry: '16/09/2025 10:00'\n",
      "DEBUG: Parsing expiry date: '16/09/2025 10:00'\n",
      "DEBUG: Successfully parsed '16/09/2025 10:00' with format '%d/%m/%Y %H:%M'\n",
      "DEBUG: Expiry date: 2025-09-16 10:00:00\n",
      "DEBUG: Current date: 2025-09-08 09:18:16.349931\n",
      "DEBUG: Time to expiry (years): 0.02198214218029888\n",
      "DEBUG: Added default time to expiry: '16/09/2025 10:00'\n",
      "DEBUG: Parsing expiry date: '16/09/2025 10:00'\n",
      "DEBUG: Successfully parsed '16/09/2025 10:00' with format '%d/%m/%Y %H:%M'\n",
      "DEBUG: Expiry date: 2025-09-16 10:00:00\n",
      "DEBUG: Current date: 2025-09-08 09:18:16.350930\n",
      "DEBUG: Time to expiry (years): 0.021982142148642483\n",
      "DEBUG: Added default time to expiry: '15/12/2025 10:00'\n",
      "DEBUG: Parsing expiry date: '15/12/2025 10:00'\n",
      "DEBUG: Successfully parsed '15/12/2025 10:00' with format '%d/%m/%Y %H:%M'\n",
      "DEBUG: Expiry date: 2025-12-15 10:00:00\n",
      "DEBUG: Current date: 2025-09-08 09:18:16.350930\n",
      "DEBUG: Time to expiry (years): 0.26838871299053163\n",
      "DEBUG: Added default time to expiry: '15/12/2025 10:00'\n",
      "DEBUG: Parsing expiry date: '15/12/2025 10:00'\n",
      "DEBUG: Successfully parsed '15/12/2025 10:00' with format '%d/%m/%Y %H:%M'\n",
      "DEBUG: Expiry date: 2025-12-15 10:00:00\n",
      "DEBUG: Current date: 2025-09-08 09:18:16.350930\n",
      "DEBUG: Time to expiry (years): 0.26838871299053163\n",
      "DEBUG: Added default time to expiry: '18/09/2025 10:00'\n",
      "DEBUG: Parsing expiry date: '18/09/2025 10:00'\n",
      "DEBUG: Successfully parsed '18/09/2025 10:00' with format '%d/%m/%Y %H:%M'\n",
      "DEBUG: Expiry date: 2025-09-18 10:00:00\n",
      "DEBUG: Current date: 2025-09-08 09:18:16.350930\n",
      "DEBUG: Time to expiry (years): 0.027457843722906685\n",
      "DEBUG: Added default time to expiry: '28/01/2026 10:00'\n",
      "DEBUG: Parsing expiry date: '28/01/2026 10:00'\n",
      "DEBUG: Successfully parsed '28/01/2026 10:00' with format '%d/%m/%Y %H:%M'\n",
      "DEBUG: Expiry date: 2026-01-28 10:00:00\n",
      "DEBUG: Current date: 2025-09-08 09:18:16.350930\n",
      "DEBUG: Time to expiry (years): 0.38885414762434406\n",
      "DEBUG: Added default time to expiry: '20/04/2026 10:00'\n",
      "DEBUG: Parsing expiry date: '20/04/2026 10:00'\n",
      "DEBUG: Successfully parsed '20/04/2026 10:00' with format '%d/%m/%Y %H:%M'\n",
      "DEBUG: Expiry date: 2026-04-20 10:00:00\n",
      "DEBUG: Current date: 2025-09-08 09:18:16.350930\n",
      "DEBUG: Time to expiry (years): 0.6133579121691763\n",
      "DEBUG: Added default time to expiry: '20/04/2026 10:00'\n",
      "DEBUG: Parsing expiry date: '20/04/2026 10:00'\n",
      "DEBUG: Successfully parsed '20/04/2026 10:00' with format '%d/%m/%Y %H:%M'\n",
      "DEBUG: Expiry date: 2026-04-20 10:00:00\n",
      "DEBUG: Current date: 2025-09-08 09:18:16.350930\n",
      "DEBUG: Time to expiry (years): 0.6133579121691763\n",
      "DEBUG: Added default time to expiry: '20/04/2026 10:00'\n",
      "DEBUG: Parsing expiry date: '20/04/2026 10:00'\n",
      "DEBUG: Successfully parsed '20/04/2026 10:00' with format '%d/%m/%Y %H:%M'\n",
      "DEBUG: Expiry date: 2026-04-20 10:00:00\n",
      "DEBUG: Current date: 2025-09-08 09:18:16.350930\n",
      "DEBUG: Time to expiry (years): 0.6133579121691763\n",
      "DEBUG: Added default time to expiry: '21/11/2025 10:00'\n",
      "DEBUG: Parsing expiry date: '21/11/2025 10:00'\n",
      "DEBUG: Successfully parsed '21/11/2025 10:00' with format '%d/%m/%Y %H:%M'\n",
      "DEBUG: Expiry date: 2025-11-21 10:00:00\n",
      "DEBUG: Current date: 2025-09-08 09:18:16.352930\n",
      "DEBUG: Time to expiry (years): 0.202680294035985\n",
      "DEBUG: Added default time to expiry: '21/11/2025 10:00'\n",
      "DEBUG: Parsing expiry date: '21/11/2025 10:00'\n",
      "DEBUG: Successfully parsed '21/11/2025 10:00' with format '%d/%m/%Y %H:%M'\n",
      "DEBUG: Expiry date: 2025-11-21 10:00:00\n",
      "DEBUG: Current date: 2025-09-08 09:18:16.352930\n",
      "DEBUG: Time to expiry (years): 0.202680294035985\n",
      "DEBUG: Added default time to expiry: '17/09/2025 10:00'\n",
      "DEBUG: Parsing expiry date: '17/09/2025 10:00'\n",
      "DEBUG: Successfully parsed '17/09/2025 10:00' with format '%d/%m/%Y %H:%M'\n",
      "DEBUG: Expiry date: 2025-09-17 10:00:00\n",
      "DEBUG: Current date: 2025-09-08 09:18:16.352930\n",
      "DEBUG: Time to expiry (years): 0.024719992872398407\n",
      "DEBUG: Added default time to expiry: '17/09/2025 10:00'\n",
      "DEBUG: Parsing expiry date: '17/09/2025 10:00'\n",
      "DEBUG: Successfully parsed '17/09/2025 10:00' with format '%d/%m/%Y %H:%M'\n",
      "DEBUG: Expiry date: 2025-09-17 10:00:00\n",
      "DEBUG: Current date: 2025-09-08 09:18:16.352930\n",
      "DEBUG: Time to expiry (years): 0.024719992872398407\n",
      "DEBUG: Added default time to expiry: '19/11/2025 10:00'\n",
      "DEBUG: Parsing expiry date: '19/11/2025 10:00'\n",
      "DEBUG: Successfully parsed '19/11/2025 10:00' with format '%d/%m/%Y %H:%M'\n",
      "DEBUG: Expiry date: 2025-11-19 10:00:00\n",
      "DEBUG: Current date: 2025-09-08 09:18:16.352930\n",
      "DEBUG: Time to expiry (years): 0.19720459246172078\n",
      "DEBUG: Added default time to expiry: '19/11/2025 10:00'\n",
      "DEBUG: Parsing expiry date: '19/11/2025 10:00'\n",
      "DEBUG: Successfully parsed '19/11/2025 10:00' with format '%d/%m/%Y %H:%M'\n",
      "DEBUG: Expiry date: 2025-11-19 10:00:00\n",
      "DEBUG: Current date: 2025-09-08 09:18:16.352930\n",
      "DEBUG: Time to expiry (years): 0.19720459246172078\n",
      "DEBUG: Added default time to expiry: '17/08/2026 10:00'\n",
      "DEBUG: Parsing expiry date: '17/08/2026 10:00'\n",
      "DEBUG: Successfully parsed '17/08/2026 10:00' with format '%d/%m/%Y %H:%M'\n",
      "DEBUG: Expiry date: 2026-08-17 10:00:00\n",
      "DEBUG: Current date: 2025-09-08 09:18:16.352930\n",
      "DEBUG: Time to expiry (years): 0.9391621557745203\n",
      "DEBUG: Added default time to expiry: '10/09/2025 10:00'\n",
      "DEBUG: Parsing expiry date: '10/09/2025 10:00'\n",
      "DEBUG: Successfully parsed '10/09/2025 10:00' with format '%d/%m/%Y %H:%M'\n",
      "DEBUG: Expiry date: 2025-09-10 10:00:00\n",
      "DEBUG: Current date: 2025-09-08 09:18:16.352930\n",
      "DEBUG: Time to expiry (years): 0.005555037362473699\n",
      "DEBUG: Added default time to expiry: '10/09/2025 10:00'\n",
      "DEBUG: Parsing expiry date: '10/09/2025 10:00'\n",
      "DEBUG: Successfully parsed '10/09/2025 10:00' with format '%d/%m/%Y %H:%M'\n",
      "DEBUG: Expiry date: 2025-09-10 10:00:00\n",
      "DEBUG: Current date: 2025-09-08 09:18:16.352930\n",
      "DEBUG: Time to expiry (years): 0.005555037362473699\n",
      "DEBUG: Added default time to expiry: '10/09/2025 10:00'\n",
      "DEBUG: Parsing expiry date: '10/09/2025 10:00'\n",
      "DEBUG: Successfully parsed '10/09/2025 10:00' with format '%d/%m/%Y %H:%M'\n",
      "DEBUG: Expiry date: 2025-09-10 10:00:00\n",
      "DEBUG: Current date: 2025-09-08 09:18:16.353928\n",
      "DEBUG: Time to expiry (years): 0.005555037330848988\n",
      "DEBUG: Added default time to expiry: '10/09/2025 10:00'\n",
      "DEBUG: Parsing expiry date: '10/09/2025 10:00'\n",
      "DEBUG: Successfully parsed '10/09/2025 10:00' with format '%d/%m/%Y %H:%M'\n",
      "DEBUG: Expiry date: 2025-09-10 10:00:00\n",
      "DEBUG: Current date: 2025-09-08 09:18:16.353928\n",
      "DEBUG: Time to expiry (years): 0.005555037330848988\n",
      "DEBUG: Added default time to expiry: '12/11/2025 10:00'\n",
      "DEBUG: Parsing expiry date: '12/11/2025 10:00'\n",
      "DEBUG: Successfully parsed '12/11/2025 10:00' with format '%d/%m/%Y %H:%M'\n",
      "DEBUG: Expiry date: 2025-11-12 10:00:00\n",
      "DEBUG: Current date: 2025-09-08 09:18:16.353928\n",
      "DEBUG: Time to expiry (years): 0.17803963692017138\n",
      "DEBUG: Added default time to expiry: '03/12/2025 10:00'\n",
      "DEBUG: Parsing expiry date: '03/12/2025 10:00'\n",
      "DEBUG: Successfully parsed '03/12/2025 10:00' with format '%d/%m/%Y %H:%M'\n",
      "DEBUG: Expiry date: 2025-12-03 10:00:00\n",
      "DEBUG: Current date: 2025-09-08 09:18:16.353928\n",
      "DEBUG: Time to expiry (years): 0.2355345034499455\n",
      "DEBUG: Added default time to expiry: '03/12/2025 10:00'\n",
      "DEBUG: Parsing expiry date: '03/12/2025 10:00'\n",
      "DEBUG: Successfully parsed '03/12/2025 10:00' with format '%d/%m/%Y %H:%M'\n",
      "DEBUG: Expiry date: 2025-12-03 10:00:00\n",
      "DEBUG: Current date: 2025-09-08 09:18:16.353928\n",
      "DEBUG: Time to expiry (years): 0.2355345034499455\n",
      "DEBUG: Added default time to expiry: '25/09/2026 10:00'\n",
      "DEBUG: Parsing expiry date: '25/09/2026 10:00'\n",
      "DEBUG: Successfully parsed '25/09/2026 10:00' with format '%d/%m/%Y %H:%M'\n",
      "DEBUG: Expiry date: 2026-09-25 10:00:00\n",
      "DEBUG: Current date: 2025-09-08 09:18:16.353928\n",
      "DEBUG: Time to expiry (years): 1.0459383364410475\n",
      "DEBUG: Added default time to expiry: '25/09/2026 10:00'\n",
      "DEBUG: Parsing expiry date: '25/09/2026 10:00'\n",
      "DEBUG: Successfully parsed '25/09/2026 10:00' with format '%d/%m/%Y %H:%M'\n",
      "DEBUG: Expiry date: 2026-09-25 10:00:00\n",
      "DEBUG: Current date: 2025-09-08 09:18:16.353928\n",
      "DEBUG: Time to expiry (years): 1.0459383364410475\n",
      "DEBUG: Added default time to expiry: '30/05/2026 10:00'\n",
      "DEBUG: Parsing expiry date: '30/05/2026 10:00'\n",
      "DEBUG: Successfully parsed '30/05/2026 10:00' with format '%d/%m/%Y %H:%M'\n",
      "DEBUG: Expiry date: 2026-05-30 10:00:00\n",
      "DEBUG: Current date: 2025-09-08 09:18:16.353928\n",
      "DEBUG: Time to expiry (years): 0.7228719435594595\n",
      "DEBUG: Parsing expiry date: '26Sep25 09:00'\n",
      "DEBUG: Successfully parsed '26Sep25 09:00' with format '%d%b%y %H:%M'\n",
      "DEBUG: Expiry date: 2025-09-26 09:00:00\n",
      "DEBUG: Current date: 2025-09-08 09:18:16.353928\n",
      "DEBUG: Time to expiry (years): 0.04924657280883211\n",
      "DEBUG: Parsing expiry date: '31Oct25 09:00'\n",
      "DEBUG: Successfully parsed '31Oct25 09:00' with format '%d%b%y %H:%M'\n",
      "DEBUG: Expiry date: 2025-10-31 09:00:00\n",
      "DEBUG: Current date: 2025-09-08 09:18:16.353928\n",
      "DEBUG: Time to expiry (years): 0.14507135035845567\n",
      "\n",
      "=== ETH OPTION DEBUG ===\n",
      "Index: 163\n",
      "Token: ETH\n",
      "Source: deribit\n",
      "Expiry: 26Sep25 09:00\n",
      "Strike: 3800.0\n",
      "Size: 200.0\n",
      "Option_Type: Put\n",
      "Current_Price: 4404.074004\n",
      "Volatility: 0.711\n",
      "Time_to_Expiry: 0.04924657280883211\n",
      "Cleaned option_type: put\n",
      "\n",
      "--- BLACK-SCHOLES DEBUG for ETH ---\n",
      "Inputs: S=4404.074004, K=3800.0, T=0.04924657280883211, r=0.0, sigma=0.711, type=put\n",
      "d1 calculation: ln(4404.074004/3800.0) + (0.0 + 0.5*0.711²)*0.04924657280883211 / (0.711*√0.04924657280883211) = 1.0139083601161036\n",
      "Put delta: N(d1) - 1 = N(1.0139083601161036) - 1 = -0.15531324091351295\n",
      "ETH premium info (will adjust spot, not option delta):\n",
      "  Premium (USD): 60.652040483970154\n",
      "  Premium (ETH): 0.013771803205142088\n",
      "  Option delta (unadjusted): -0.15531324091351295\n",
      "Final option delta: -0.15531324091351295\n",
      "--- END DEBUG ---\n",
      "\n",
      "Option delta (unadjusted): -0.155313\n",
      "ETH premium adjustment: 0.013772\n",
      "========================\n",
      "\n",
      "\n",
      "=== ETH OPTION DEBUG ===\n",
      "Index: 164\n",
      "Token: ETH\n",
      "Source: deribit\n",
      "Expiry: 31Oct25 09:00\n",
      "Strike: 5100.0\n",
      "Size: 500.0\n",
      "Option_Type: Call\n",
      "Current_Price: 4404.074004\n",
      "Volatility: 0.6692\n",
      "Time_to_Expiry: 0.14507135035845567\n",
      "Cleaned option_type: call\n",
      "\n",
      "--- BLACK-SCHOLES DEBUG for ETH ---\n",
      "Inputs: S=4404.074004, K=5100.0, T=0.14507135035845567, r=0.0, sigma=0.6692, type=call\n",
      "d1 calculation: ln(4404.074004/5100.0) + (0.0 + 0.5*0.6692²)*0.14507135035845567 / (0.6692*√0.14507135035845567) = -0.4481484271469158\n",
      "Call delta: N(d1) = N(-0.4481484271469158) = 0.32702304002057925\n",
      "ETH premium info (will adjust spot, not option delta):\n",
      "  Premium (USD): 211.04694213137554\n",
      "  Premium (ETH): 0.04792084373234695\n",
      "  Option delta (unadjusted): 0.32702304002057925\n",
      "Final option delta: 0.32702304002057925\n",
      "--- END DEBUG ---\n",
      "\n",
      "Option delta (unadjusted): 0.327023\n",
      "ETH premium adjustment: 0.047921\n",
      "========================\n",
      "\n",
      "Calculated delta for 33 options\n",
      "\n",
      "Applying ETH premium adjustment to spot positions:\n",
      "Total ETH premium to subtract from spot: 26.714783 ETH\n",
      "  ETH Spot position 161: Size=211\n",
      "    Premium adjustment per unit: 0.126498 ETH\n",
      "    Original delta: 1.000000\n",
      "    New delta: 0.873502\n",
      "\n",
      "✅ Delta calculation complete for 78 positions\n",
      "Total portfolio delta exposure: $430,386.20\n",
      "ETH premium adjustment applied: 26.714783 ETH ($117,653.88)\n"
     ]
    }
   ],
   "source": [
    "# Initialize delta columns\n",
    "df['Delta'] = 0.0\n",
    "df['Time_to_Expiry'] = 0.0\n",
    "df['ETH_Premium_Adjustment'] = 0.0  # Track ETH premium adjustments\n",
    "\n",
    "print(\"Calculating delta for filtered data...\")\n",
    "\n",
    "# Track total ETH premium to subtract from ETH spot positions\n",
    "total_eth_premium_adjustment = 0.0\n",
    "\n",
    "# 1. Spot positions: Delta = 1.0 (will adjust ETH later)\n",
    "spot_mask = df['Position_Type'].str.upper() == 'SPOT'\n",
    "df.loc[spot_mask, 'Delta'] = 1.0\n",
    "print(f\"Spot positions: {spot_mask.sum():,} (Delta = 1.0, ETH will be adjusted for option premiums)\")\n",
    "\n",
    "# 2. Future positions: Delta = 1.0\n",
    "future_mask = df['Position_Type'].str.upper() == 'FUTURE'\n",
    "df.loc[future_mask, 'Delta'] = 1.0\n",
    "print(f\"Future positions: {future_mask.sum():,} (Delta = 1.0)\")\n",
    "\n",
    "# 3. Option positions: Calculate using Black-Scholes\n",
    "option_mask = df['Position_Type'].str.upper() == 'OPTION'\n",
    "option_count = option_mask.sum()\n",
    "print(f\"Option positions: {option_count:,} (Black-Scholes, ETH premium adjustment applied to spot)\")\n",
    "\n",
    "if option_count > 0:\n",
    "    # Verify option sources\n",
    "    option_sources = df[option_mask]['Source'].unique()\n",
    "    print(f\"Option sources in filtered data: {list(option_sources)}\")\n",
    "    \n",
    "    # Calculate time to expiry\n",
    "    df.loc[option_mask, 'Time_to_Expiry'] = df.loc[option_mask, 'Expiry'].apply(calculate_time_to_expiry)\n",
    "    \n",
    "    calculated_deltas = 0\n",
    "    for idx, row in df[option_mask].iterrows():\n",
    "        S = row['Current_Price']\n",
    "        K = row['Strike']\n",
    "        T = row['Time_to_Expiry']\n",
    "        r = 0.0  # Interest rate = 0\n",
    "        sigma = row['Volatility'] if pd.notna(row['Volatility']) and row['Volatility'] > 0 else 0.5\n",
    "        option_type = str(row['Option_Type']).lower() if pd.notna(row['Option_Type']) else 'call'\n",
    "        token = row['Token']\n",
    "        \n",
    "        # DEBUG: Print ETH option details\n",
    "        if token.upper() == 'ETH':\n",
    "            print(f\"\\n=== ETH OPTION DEBUG ===\")\n",
    "            print(f\"Index: {idx}\")\n",
    "            print(f\"Token: {token}\")\n",
    "            print(f\"Source: {row['Source']}\")\n",
    "            print(f\"Expiry: {row['Expiry']}\")\n",
    "            print(f\"Strike: {K}\")\n",
    "            print(f\"Size: {row['Size']}\")\n",
    "            print(f\"Option_Type: {row['Option_Type']}\")\n",
    "            print(f\"Current_Price: {S}\")\n",
    "            print(f\"Volatility: {row['Volatility']}\")\n",
    "            print(f\"Time_to_Expiry: {T}\")\n",
    "            print(f\"Cleaned option_type: {option_type}\")\n",
    "        \n",
    "        # Clean option type\n",
    "        if 'call' in option_type:\n",
    "            option_type = 'call'\n",
    "        elif 'put' in option_type:\n",
    "            option_type = 'put'\n",
    "        else:\n",
    "            option_type = 'call'\n",
    "        \n",
    "        if pd.notna(S) and pd.notna(K) and S > 0 and K > 0:\n",
    "            delta_result = black_scholes_delta(S, K, T, r, sigma, option_type, token)\n",
    "            \n",
    "            # Handle new return format (delta, eth_premium_adjustment)\n",
    "            if isinstance(delta_result, tuple):\n",
    "                delta, eth_premium_adjustment = delta_result\n",
    "            else:\n",
    "                delta = delta_result\n",
    "                eth_premium_adjustment = 0.0\n",
    "            \n",
    "            # DEBUG: Print ETH delta calculation details\n",
    "            if token.upper() == 'ETH':\n",
    "                print(f\"Option delta (unadjusted): {delta:.6f}\")\n",
    "                print(f\"ETH premium adjustment: {eth_premium_adjustment:.6f}\")\n",
    "                print(\"========================\\n\")\n",
    "                \n",
    "                # Accumulate ETH premium adjustments\n",
    "                total_eth_premium_adjustment += eth_premium_adjustment * row['Size']\n",
    "            \n",
    "            df.at[idx, 'Delta'] = delta\n",
    "            df.at[idx, 'ETH_Premium_Adjustment'] = eth_premium_adjustment\n",
    "            calculated_deltas += 1\n",
    "        else:\n",
    "            # DEBUG: Print why ETH option was skipped\n",
    "            if token.upper() == 'ETH':\n",
    "                print(f\"ETH option SKIPPED - S: {S}, K: {K}, S>0: {S>0}, K>0: {K>0}\")\n",
    "    \n",
    "    print(f\"Calculated delta for {calculated_deltas:,} options\")\n",
    "    \n",
    "    # Apply ETH premium adjustment to ETH spot positions\n",
    "    eth_spot_mask = (df['Position_Type'].str.upper() == 'SPOT') & (df['Token'].str.upper() == 'ETH')\n",
    "    if eth_spot_mask.any() and total_eth_premium_adjustment != 0:\n",
    "        print(f\"\\nApplying ETH premium adjustment to spot positions:\")\n",
    "        print(f\"Total ETH premium to subtract from spot: {total_eth_premium_adjustment:.6f} ETH\")\n",
    "        \n",
    "        # Simple adjustment: subtract total premium from all ETH spot positions\n",
    "        for idx, row in df[eth_spot_mask].iterrows():\n",
    "            original_delta = df.at[idx, 'Delta']\n",
    "            # Calculate per-unit adjustment for this position\n",
    "            adjustment_per_unit = total_eth_premium_adjustment / row['Size']\n",
    "            new_delta = original_delta - adjustment_per_unit\n",
    "            \n",
    "            df.at[idx, 'ETH_Premium_Adjustment'] = adjustment_per_unit\n",
    "            df.at[idx, 'Delta'] = new_delta\n",
    "            \n",
    "            print(f\"  ETH Spot position {idx}: Size={row['Size']:.0f}\")\n",
    "            print(f\"    Premium adjustment per unit: {adjustment_per_unit:.6f} ETH\")\n",
    "            print(f\"    Original delta: {original_delta:.6f}\")\n",
    "            print(f\"    New delta: {new_delta:.6f}\")\n",
    "    elif total_eth_premium_adjustment != 0:\n",
    "        print(f\"\\nWARNING: ETH premium adjustment of {total_eth_premium_adjustment:.6f} ETH calculated but no ETH spot positions found!\")\n",
    "\n",
    "# Calculate delta exposure\n",
    "df['Delta_Exposure'] = df['Size'] * df['Delta']\n",
    "df['Delta_Exposure_USD'] = df['Delta_Exposure'] * df['Current_Price']\n",
    "\n",
    "print(f\"\\n✅ Delta calculation complete for {len(df):,} positions\")\n",
    "print(f\"Total portfolio delta exposure: ${df['Delta_Exposure_USD'].sum():,.2f}\")\n",
    "if total_eth_premium_adjustment != 0:\n",
    "    print(f\"ETH premium adjustment applied: {total_eth_premium_adjustment:.6f} ETH (${total_eth_premium_adjustment * df[df['Token']=='ETH']['Current_Price'].iloc[0]:,.2f})\")"
   ]
  },
  {
   "cell_type": "code",
   "execution_count": 6,
   "metadata": {
    "vscode": {
     "languageId": "javascript"
    }
   },
   "outputs": [
    {
     "name": "stdout",
     "output_type": "stream",
     "text": [
      "================================================================================\n",
      "OPTION EXPIRY DATES (Closest to Furthest)\n",
      "================================================================================\n",
      "Token    Expiry Date          Time to Expiry  Strike       Type   Size        \n",
      "--------------------------------------------------------------------------------\n",
      "CFX      10/09/2025           2 days                 0.11 CALL     1,000,000\n",
      "CFX      10/09/2025           2 days                 0.14 CALL     1,000,000\n",
      "CFX      10/09/2025           2 days                 0.19 CALL     1,000,000\n",
      "CFX      10/09/2025           2 days                 0.16 CALL     1,000,000\n",
      "OXT      16/09/2025           8 days                 0.04 Put      5,000,000\n",
      "OXT      16/09/2025           8 days                 0.06 Call     5,000,000\n",
      "OXT      16/09/2025           8 days                 0.05 Call     5,000,000\n",
      "OXT      16/09/2025           8 days                 0.06 Call     5,000,000\n",
      "OXT      16/09/2025           8 days                 0.05 Put      5,000,000\n",
      "SAFE     17/09/2025           9 days                 0.40 PUT        308,040\n",
      "SAFE     17/09/2025           9 days                 0.51 CALL       300,000\n",
      "ICP      18/09/2025           10 days                5.14 CALL       100,000\n",
      "ETH      26Sep25 09:00        18 days             3800.00 Put            200\n",
      "ETH      31Oct25 09:00        0.145 years         5100.00 Call           500\n",
      "VET      12/11/2025           0.178 years            0.03 CALL    10,000,000\n",
      "NEAR     19/11/2025           0.197 years            2.68 CALL       175,000\n",
      "NEAR     19/11/2025           0.197 years            2.79 CALL       175,000\n",
      "IOST     21/11/2025           0.203 years            0.00 CALL   100,000,000\n",
      "IOST     21/11/2025           0.203 years            0.00 CALL   100,000,000\n",
      "MINA     03/12/2025           0.236 years            0.18 CALL       600,000\n",
      "MINA     03/12/2025           0.236 years            0.22 CALL       600,000\n",
      "ICP      15/12/2025           0.268 years            7.28 CALL       150,000\n",
      "ICP      15/12/2025           0.268 years            6.44 CALL       300,000\n",
      "CSPR     28/01/2026           0.389 years            0.01 CALL    10,000,000\n",
      "ACX      20/04/2026           0.613 years            0.61 Call     1,000,000\n",
      "ACX      20/04/2026           0.613 years            0.53 Call     1,000,000\n",
      "ACX      20/04/2026           0.613 years            0.71 Call     1,000,000\n",
      "ACX      20Apr26 23:00        0.615 years            0.40 Call     1,000,000\n",
      "ACX      20Apr26 23:00        0.615 years            0.46 Call     1,000,000\n",
      "TNSR     30/05/2026           0.723 years            0.18 CALL     3,434,000\n",
      "CELO     17/08/2026           0.939 years            0.50 CALL       750,000\n",
      "AGI      25/09/2026           1.046 years            0.06 CALL     1,000,000\n",
      "AGI      25/09/2026           1.046 years            0.07 CALL     1,000,000\n",
      "\n",
      "Total option positions: 33\n",
      "Expiry range: 0.0056 to 1.0459 years\n"
     ]
    }
   ],
   "source": [
    "# Display option expiry dates sorted from closest to furthest\n",
    "print(\"=\" * 80)\n",
    "print(\"OPTION EXPIRY DATES (Closest to Furthest)\")\n",
    "print(\"=\" * 80)\n",
    "\n",
    "option_positions = df[df['Position_Type'].str.upper() == 'OPTION'].copy()\n",
    "\n",
    "if len(option_positions) > 0:\n",
    "    # Sort by time to expiry (closest first)\n",
    "    option_positions_sorted = option_positions.sort_values('Time_to_Expiry')\n",
    "    \n",
    "    print(f\"{'Token':<8} {'Expiry Date':<20} {'Time to Expiry':<15} {'Strike':<12} {'Type':<6} {'Size':<12}\")\n",
    "    print(\"-\" * 80)\n",
    "    \n",
    "    for _, row in option_positions_sorted.iterrows():\n",
    "        token = row['Token']\n",
    "        expiry = row['Expiry']\n",
    "        time_to_expiry = row['Time_to_Expiry']\n",
    "        strike = row['Strike'] if pd.notna(row['Strike']) else 0\n",
    "        opt_type = str(row['Option_Type'])[:4] if pd.notna(row['Option_Type']) else 'N/A'\n",
    "        size = row['Size']\n",
    "        \n",
    "        # Format time to expiry\n",
    "        if time_to_expiry < 0.003:  # Less than ~1 day\n",
    "            time_str = f\"{time_to_expiry*365:.1f} days\"\n",
    "        elif time_to_expiry < 0.1:  # Less than ~36 days\n",
    "            time_str = f\"{time_to_expiry*365:.0f} days\"\n",
    "        else:\n",
    "            time_str = f\"{time_to_expiry:.3f} years\"\n",
    "        \n",
    "        print(f\"{token:<8} {expiry:<20} {time_str:<15} {strike:>11.2f} {opt_type:<6} {size:>11,.0f}\")\n",
    "    \n",
    "    print(f\"\\nTotal option positions: {len(option_positions):,}\")\n",
    "    print(f\"Expiry range: {option_positions_sorted['Time_to_Expiry'].min():.4f} to {option_positions_sorted['Time_to_Expiry'].max():.4f} years\")\n",
    "else:\n",
    "    print(\"No option positions found.\")"
   ]
  },
  {
   "cell_type": "markdown",
   "metadata": {},
   "source": [
    "## Step 4: Clean Delta Breakdown by Token"
   ]
  },
  {
   "cell_type": "code",
   "execution_count": 7,
   "metadata": {},
   "outputs": [
    {
     "name": "stdout",
     "output_type": "stream",
     "text": [
      "====================================================================================================\n",
      "PORTFOLIO DELTA EXPOSURE BY TOKEN (CLEAN VIEW)\n",
      "====================================================================================================\n",
      "Token    Spot Δ       Future Δ     Option Δ     Total Δ      Total USD       Price       \n",
      "====================================================================================================\n",
      "ETH            184.5      -242.6       132.4        74.3      327,112 $4,404.074004\n",
      "ICP       -619,813.0   414,944.8   156,866.9   -48,001.3     -230,386 $  4.799583\n",
      "SOL              0.0       993.9         0.0       993.9      205,071 $206.340000\n",
      "BTC              7.2        -8.5         0.0        -1.3     -149,726 $112,194.995900\n",
      "XRP              0.0    25,445.5         0.0    25,445.5       72,357 $  2.843600\n",
      "SAFE       -47,430.5   122,234.3         0.0    74,803.8       31,588 $  0.422280\n",
      "TOWNS            0.0 1,352,115.4         0.0 1,352,115.4       31,504 $  0.023300\n",
      "SUI              0.0     7,992.2         0.0     7,992.2       27,066 $  3.386500\n",
      "NEAR      -383,392.3   251,451.2   143,061.3    11,120.3       26,938 $  2.422444\n",
      "OXT      -3,153,056.7         0.0 2,721,885.5  -431,171.1      -23,051 $  0.053463\n",
      "CSPR      -660,152.9         0.0 3,019,367.5 2,359,214.6       22,883 $  0.009699\n",
      "CFX      -2,685,054.9  -319,863.3 2,882,006.8  -122,911.4      -21,179 $  0.172315\n",
      "AGI       -643,437.9   200,484.9   914,497.5   471,544.5       19,936 $  0.042278\n",
      "HOME             0.0   484,548.6         0.0   484,548.6       19,537 $  0.040320\n",
      "FET       -490,567.8   521,917.7         0.0    31,349.9       19,107 $  0.609470\n",
      "ACX        -11,495.8    53,419.3    55,726.2    97,649.7       17,772 $  0.182001\n",
      "CELO      -352,670.2   123,571.5   286,837.3    57,738.7       17,021 $  0.294800\n",
      "RARE     -3,936,045.1 4,214,434.5         0.0   278,389.4       15,186 $  0.054549\n",
      "IOST     -86,353,052.6 14,532,947.5 74,031,468.7 2,211,363.7        7,192 $  0.003253\n",
      "TNSR     -1,171,218.5         0.0 1,116,678.1   -54,540.4       -6,243 $  0.114462\n",
      "ZEN            609.1         0.0         0.0       609.1        4,359 $  7.156100\n",
      "MINA      -576,912.3         0.0   563,769.1   -13,143.2       -2,370 $  0.180300\n",
      "VET      -4,616,901.8   499,990.5 4,062,677.4   -54,233.8       -1,288 $  0.023750\n",
      "====================================================================================================\n",
      "Portfolio Summary:\n",
      "  Spot Exposure:    $     -4,212,058\n",
      "  Future Exposure:  $      1,588,152\n",
      "  Option Exposure:  $      3,054,292\n",
      "  TOTAL EXPOSURE:   $        430,386\n",
      "\n",
      "================================================================================\n",
      "OPTIONS DETAIL\n",
      "================================================================================\n",
      "Token    Strike     Type   Size         Delta    Δ Exposure   USD Value   \n",
      "--------------------------------------------------------------------------------\n",
      "OXT         0.0637 Call     5,000,000   0.010      50,201 $     2,684\n",
      "OXT         0.0583 Call     5,000,000   0.128     639,892 $    34,210\n",
      "OXT         0.0534 Call     5,000,000   0.521   2,605,361 $   139,289\n",
      "OXT         0.0489 Put      5,000,000  -0.107    -535,878 $   -28,649\n",
      "OXT         0.0448 Put      5,000,000  -0.008     -37,691 $    -2,015\n",
      "ICP         7.2800 CALL       150,000   0.212      31,867 $   152,947\n",
      "ICP         6.4400 CALL       300,000   0.308      92,335 $   443,167\n",
      "ICP         5.1390 CALL       100,000   0.327      32,666 $   156,781\n",
      "CSPR        0.0142 CALL    10,000,000   0.302   3,019,367 $    29,286\n",
      "ACX         0.7070 Call     1,000,000   0.001         538 $        98\n",
      "ACX         0.6060 Call     1,000,000   0.002       2,014 $       367\n",
      "ACX         0.5252 Call     1,000,000   0.006       6,027 $     1,097\n",
      "ACX         0.4646 Call     1,000,000   0.014      14,105 $     2,567\n",
      "ACX         0.4040 Call     1,000,000   0.033      33,042 $     6,014\n",
      "IOST        0.0040 CALL   100,000,000   0.295  29,518,902 $    96,010\n",
      "IOST        0.0036 CALL   100,000,000   0.445  44,512,567 $   144,777\n",
      "SAFE        0.5077 CALL       300,000   0.000           0 $         0\n",
      "SAFE        0.3973 PUT        308,040   0.000           0 $         0\n",
      "NEAR        2.7873 CALL       175,000   0.384      67,140 $   162,642\n",
      "NEAR        2.6775 CALL       175,000   0.434      75,922 $   183,916\n",
      "CELO        0.5020 CALL       750,000   0.382     286,837 $    84,560\n",
      "CFX         0.1892 CALL     1,000,000   0.087      86,907 $    14,975\n",
      "CFX         0.1634 CALL     1,000,000   0.795     795,453 $   137,068\n",
      "CFX         0.1376 CALL     1,000,000   1.000     999,647 $   172,254\n",
      "CFX         0.1118 CALL     1,000,000   1.000   1,000,000 $   172,315\n",
      "VET         0.0266 CALL    10,000,000   0.406   4,062,677 $    96,489\n",
      "MINA        0.2240 CALL       600,000   0.358     214,568 $    38,687\n",
      "MINA        0.1794 CALL       600,000   0.582     349,201 $    62,961\n",
      "AGI         0.0725 CALL     1,000,000   0.401     401,252 $    16,964\n",
      "AGI         0.0575 CALL     1,000,000   0.513     513,246 $    21,699\n",
      "TNSR        0.1789 CALL     3,434,000   0.325   1,116,678 $   127,818\n",
      "ETH      3800.0000 Put            200  -0.155         -31 $  -136,802\n",
      "ETH      5100.0000 Call           500   0.327         164 $   720,117\n"
     ]
    }
   ],
   "source": [
    "print(\"=\" * 100)\n",
    "print(\"PORTFOLIO DELTA EXPOSURE BY TOKEN (CLEAN VIEW)\")\n",
    "print(\"=\" * 100)\n",
    "\n",
    "# Create summary by token\n",
    "summary_data = []\n",
    "\n",
    "# Get tokens sorted by absolute exposure\n",
    "token_totals = df.groupby('Token')['Delta_Exposure_USD'].sum().abs().sort_values(ascending=False)\n",
    "\n",
    "for token in token_totals.index:\n",
    "    token_data = df[df['Token'] == token]\n",
    "    \n",
    "    # Spot delta\n",
    "    spot_data = token_data[token_data['Position_Type'].str.upper() == 'SPOT']\n",
    "    spot_delta = spot_data['Delta_Exposure'].sum() if len(spot_data) > 0 else 0.0\n",
    "    spot_usd = spot_data['Delta_Exposure_USD'].sum() if len(spot_data) > 0 else 0.0\n",
    "    \n",
    "    # Future delta\n",
    "    future_data = token_data[token_data['Position_Type'].str.upper() == 'FUTURE']\n",
    "    future_delta = future_data['Delta_Exposure'].sum() if len(future_data) > 0 else 0.0\n",
    "    future_usd = future_data['Delta_Exposure_USD'].sum() if len(future_data) > 0 else 0.0\n",
    "    \n",
    "    # Options delta\n",
    "    option_data = token_data[token_data['Position_Type'].str.upper() == 'OPTION']\n",
    "    option_delta = option_data['Delta_Exposure'].sum() if len(option_data) > 0 else 0.0\n",
    "    option_usd = option_data['Delta_Exposure_USD'].sum() if len(option_data) > 0 else 0.0\n",
    "    \n",
    "    # Totals\n",
    "    total_delta = spot_delta + future_delta + option_delta\n",
    "    total_usd = spot_usd + future_usd + option_usd\n",
    "    current_price = token_data['Current_Price'].iloc[0]\n",
    "    \n",
    "    summary_data.append({\n",
    "        'Token': token,\n",
    "        'Spot_Delta': spot_delta,\n",
    "        'Future_Delta': future_delta,\n",
    "        'Option_Delta': option_delta,\n",
    "        'Total_Delta': total_delta,\n",
    "        'Spot_USD': spot_usd,\n",
    "        'Future_USD': future_usd,\n",
    "        'Option_USD': option_usd,\n",
    "        'Total_USD': total_usd,\n",
    "        'Price': current_price\n",
    "    })\n",
    "\n",
    "# Display clean table\n",
    "print(f\"{'Token':<8} {'Spot Δ':<12} {'Future Δ':<12} {'Option Δ':<12} {'Total Δ':<12} {'Total USD':<15} {'Price':<12}\")\n",
    "print(\"=\" * 100)\n",
    "\n",
    "for row in summary_data:\n",
    "    print(f\"{row['Token']:<8} {row['Spot_Delta']:>11,.1f} {row['Future_Delta']:>11,.1f} {row['Option_Delta']:>11,.1f} {row['Total_Delta']:>11,.1f} {row['Total_USD']:>12,.0f} ${row['Price']:>10,.6f}\")\n",
    "\n",
    "# Summary totals\n",
    "print(\"=\" * 100)\n",
    "total_spot_usd = sum(row['Spot_USD'] for row in summary_data)\n",
    "total_future_usd = sum(row['Future_USD'] for row in summary_data)\n",
    "total_option_usd = sum(row['Option_USD'] for row in summary_data)\n",
    "portfolio_total = sum(row['Total_USD'] for row in summary_data)\n",
    "\n",
    "print(f\"Portfolio Summary:\")\n",
    "print(f\"  Spot Exposure:    ${total_spot_usd:>15,.0f}\")\n",
    "print(f\"  Future Exposure:  ${total_future_usd:>15,.0f}\")\n",
    "print(f\"  Option Exposure:  ${total_option_usd:>15,.0f}\")\n",
    "print(f\"  TOTAL EXPOSURE:   ${portfolio_total:>15,.0f}\")\n",
    "\n",
    "# Show options detail if any exist\n",
    "option_positions = df[df['Position_Type'].str.upper() == 'OPTION']\n",
    "if len(option_positions) > 0:\n",
    "    print(\"\\n\" + \"=\" * 80)\n",
    "    print(\"OPTIONS DETAIL\")\n",
    "    print(\"=\" * 80)\n",
    "    print(f\"{'Token':<8} {'Strike':<10} {'Type':<6} {'Size':<12} {'Delta':<8} {'Δ Exposure':<12} {'USD Value':<12}\")\n",
    "    print(\"-\" * 80)\n",
    "    \n",
    "    for _, row in option_positions.iterrows():\n",
    "        token = row['Token']\n",
    "        strike = row['Strike'] if pd.notna(row['Strike']) else 0\n",
    "        opt_type = str(row['Option_Type'])[:4] if pd.notna(row['Option_Type']) else 'N/A'\n",
    "        size = row['Size']\n",
    "        delta = row['Delta']\n",
    "        delta_exp = row['Delta_Exposure']\n",
    "        usd_val = row['Delta_Exposure_USD']\n",
    "        \n",
    "        print(f\"{token:<8} {strike:>9.4f} {opt_type:<6} {size:>11,.0f} {delta:>7.3f} {delta_exp:>11,.0f} ${usd_val:>10,.0f}\")"
   ]
  },
  {
   "cell_type": "markdown",
   "metadata": {},
   "source": [
    "## Step 5: Stress Test - 5% Price Moves"
   ]
  },
  {
   "cell_type": "code",
   "execution_count": 8,
   "metadata": {},
   "outputs": [
    {
     "name": "stdout",
     "output_type": "stream",
     "text": [
      "====================================================================================================\n",
      "STRESS TEST: 10% PRICE MOVES\n",
      "====================================================================================================\n",
      "\n",
      "10% UP SCENARIO:\n",
      "------------------------------------------------------------\n",
      "Token    Spot PnL     Future PnL   Option PnL   Total PnL   \n",
      "------------------------------------------------------------\n",
      "OXT      $   -16,857 $          0 $     29,142 $     12,285\n",
      "FET      $   -29,899 $     31,809 $          0 $      1,911\n",
      "ICP      $  -297,484 $    199,156 $     90,747 $     -7,581\n",
      "ZEN      $       436 $          0 $          0 $        436\n",
      "CSPR     $      -640 $          0 $      3,267 $      2,627\n",
      "ACX      $      -209 $        972 $      1,375 $      2,138\n",
      "IOST     $   -28,086 $      4,727 $     27,874 $      4,514\n",
      "SAFE     $    -2,003 $      5,162 $          0 $      3,159\n",
      "NEAR     $   -92,875 $     60,913 $     39,856 $      7,894\n",
      "CELO     $   -10,397 $      3,643 $      8,989 $      2,235\n",
      "CFX      $   -46,268 $     -5,512 $     55,169 $      3,390\n",
      "VET      $   -10,965 $      1,187 $     11,185 $      1,407\n",
      "MINA     $   -10,402 $          0 $     11,196 $        795\n",
      "RARE     $   -21,471 $     22,989 $          0 $      1,519\n",
      "AGI      $    -2,720 $        848 $      4,063 $      2,191\n",
      "TNSR     $   -13,406 $          0 $     13,959 $        553\n",
      "ETH      $    81,243 $   -106,863 $     79,284 $     53,664\n",
      "BTC      $    80,797 $    -95,770 $          0 $    -14,973\n",
      "XRP      $         0 $      7,236 $          0 $      7,236\n",
      "HOME     $         0 $      1,954 $          0 $      1,954\n",
      "SOL      $         0 $     20,507 $          0 $     20,507\n",
      "SUI      $         0 $      2,707 $          0 $      2,707\n",
      "TOWNS    $         0 $      3,150 $          0 $      3,150\n",
      "------------------------------------------------------------\n",
      "TOTAL    $  -421,206 $    158,815 $    376,106 $    113,715\n",
      "\n",
      "10% DOWN SCENARIO:\n",
      "------------------------------------------------------------\n",
      "Token    Spot PnL     Future PnL   Option PnL   Total PnL   \n",
      "------------------------------------------------------------\n",
      "OXT      $    16,857 $          0 $      1,055 $     17,912\n",
      "FET      $    29,899 $    -31,809 $          0 $     -1,911\n",
      "ICP      $   297,484 $   -199,156 $    -61,066 $     37,262\n",
      "ZEN      $      -436 $          0 $          0 $       -436\n",
      "CSPR     $       640 $          0 $     -2,591 $     -1,951\n",
      "ACX      $       209 $       -972 $       -744 $     -1,507\n",
      "IOST     $    28,086 $     -4,727 $    -20,295 $      3,065\n",
      "SAFE     $     2,003 $     -5,162 $      5,328 $      2,170\n",
      "NEAR     $    92,875 $    -60,913 $    -29,371 $      2,591\n",
      "CELO     $    10,397 $     -3,643 $     -7,901 $     -1,147\n",
      "CFX      $    46,268 $      5,512 $    -43,718 $      8,061\n",
      "VET      $    10,965 $     -1,187 $     -8,095 $      1,683\n",
      "MINA     $    10,402 $          0 $     -9,077 $      1,325\n",
      "RARE     $    21,471 $    -22,989 $          0 $     -1,519\n",
      "AGI      $     2,720 $       -848 $     -3,657 $     -1,785\n",
      "TNSR     $    13,406 $          0 $    -11,586 $      1,820\n",
      "ETH      $   -81,243 $    106,863 $    -34,971 $     -9,350\n",
      "BTC      $   -80,797 $     95,770 $          0 $     14,973\n",
      "XRP      $         0 $     -7,236 $          0 $     -7,236\n",
      "HOME     $         0 $     -1,954 $          0 $     -1,954\n",
      "SOL      $         0 $    -20,507 $          0 $    -20,507\n",
      "SUI      $         0 $     -2,707 $          0 $     -2,707\n",
      "TOWNS    $         0 $     -3,150 $          0 $     -3,150\n",
      "------------------------------------------------------------\n",
      "TOTAL    $   421,206 $   -158,815 $   -226,688 $     35,702\n",
      "\n",
      "====================================================================================================\n"
     ]
    }
   ],
   "source": [
    "# Stress Test: 5% Price Moves Up and Down\n",
    "print(\"=\" * 100)\n",
    "print(\"STRESS TEST: 10% PRICE MOVES\")\n",
    "print(\"=\" * 100)\n",
    "\n",
    "stress_scenarios = [\n",
    "    {\"name\": \"10% UP\", \"multiplier\": 1.1},\n",
    "    {\"name\": \"10% DOWN\", \"multiplier\": 0.9}\n",
    "]\n",
    "\n",
    "for scenario in stress_scenarios:\n",
    "    print(f\"\\n{scenario['name']} SCENARIO:\")\n",
    "    print(\"-\" * 60)\n",
    "    print(f\"{'Token':<8} {'Spot PnL':<12} {'Future PnL':<12} {'Option PnL':<12} {'Total PnL':<12}\")\n",
    "    print(\"-\" * 60)\n",
    "    \n",
    "    total_spot_pnl = 0.0\n",
    "    total_future_pnl = 0.0\n",
    "    total_option_pnl = 0.0\n",
    "    \n",
    "    # Group by token for cleaner output\n",
    "    for token in df['Token'].unique():\n",
    "        token_data = df[df['Token'] == token]\n",
    "        current_price = token_data['Current_Price'].iloc[0]\n",
    "        stressed_price = current_price * scenario['multiplier']\n",
    "        price_change = stressed_price - current_price\n",
    "        \n",
    "        spot_pnl = 0.0\n",
    "        future_pnl = 0.0\n",
    "        option_pnl = 0.0\n",
    "        \n",
    "        # Spot PnL - use adjusted delta exposure (accounts for ETH premium adjustments)\n",
    "        spot_data = token_data[token_data['Position_Type'].str.upper() == 'SPOT']\n",
    "        if len(spot_data) > 0:\n",
    "            total_spot_delta_exposure = spot_data['Delta_Exposure'].sum()\n",
    "            spot_pnl = total_spot_delta_exposure * price_change\n",
    "        \n",
    "        # Future PnL - use adjusted delta exposure \n",
    "        future_data = token_data[token_data['Position_Type'].str.upper() == 'FUTURE']\n",
    "        if len(future_data) > 0:\n",
    "            total_future_delta_exposure = future_data['Delta_Exposure'].sum()\n",
    "            future_pnl = total_future_delta_exposure * price_change\n",
    "        \n",
    "        # Options PnL (recalculate option prices)\n",
    "        option_data = token_data[token_data['Position_Type'].str.upper() == 'OPTION']\n",
    "        if len(option_data) > 0:\n",
    "            for _, row in option_data.iterrows():\n",
    "                size = row['Size']\n",
    "                \n",
    "                # Current option price\n",
    "                S_current = current_price\n",
    "                K = row['Strike']\n",
    "                T = row['Time_to_Expiry']\n",
    "                r = 0.0\n",
    "                sigma = row['Volatility'] if pd.notna(row['Volatility']) and row['Volatility'] > 0 else 0.5\n",
    "                option_type = str(row['Option_Type']).lower() if pd.notna(row['Option_Type']) else 'call'\n",
    "                \n",
    "                if 'call' in option_type:\n",
    "                    option_type = 'call'\n",
    "                elif 'put' in option_type:\n",
    "                    option_type = 'put'\n",
    "                else:\n",
    "                    option_type = 'call'\n",
    "                \n",
    "                if pd.notna(S_current) and pd.notna(K) and S_current > 0 and K > 0:\n",
    "                    current_option_price = black_scholes_premium(S_current, K, T, r, sigma, option_type)\n",
    "                    \n",
    "                    # Stressed option price\n",
    "                    stressed_option_price = black_scholes_premium(stressed_price, K, T, r, sigma, option_type)\n",
    "                    \n",
    "                    # Option PnL\n",
    "                    single_option_pnl = size * (stressed_option_price - current_option_price)\n",
    "                    option_pnl += single_option_pnl\n",
    "        \n",
    "        total_pnl = spot_pnl + future_pnl + option_pnl\n",
    "        \n",
    "        # Only show tokens with significant PnL\n",
    "        if abs(total_pnl) > 10:\n",
    "            print(f\"{token:<8} ${spot_pnl:>10,.0f} ${future_pnl:>11,.0f} ${option_pnl:>11,.0f} ${total_pnl:>11,.0f}\")\n",
    "        \n",
    "        total_spot_pnl += spot_pnl\n",
    "        total_future_pnl += future_pnl\n",
    "        total_option_pnl += option_pnl\n",
    "    \n",
    "    print(\"-\" * 60)\n",
    "    print(f\"{'TOTAL':<8} ${total_spot_pnl:>10,.0f} ${total_future_pnl:>11,.0f} ${total_option_pnl:>11,.0f} ${total_spot_pnl + total_future_pnl + total_option_pnl:>11,.0f}\")\n",
    "\n",
    "print(\"\\n\" + \"=\" * 100)"
   ]
  },
  {
   "cell_type": "code",
   "execution_count": null,
   "metadata": {},
   "outputs": [],
   "source": []
  },
  {
   "cell_type": "markdown",
   "metadata": {},
   "source": [
    "## Step 6: PnL Visualization"
   ]
  },
  {
   "cell_type": "code",
   "execution_count": 9,
   "metadata": {},
   "outputs": [
    {
     "name": "stdout",
     "output_type": "stream",
     "text": [
      "========================================================================================================================\n",
      "ETH OPTIONS DETAILED DEBUG - PnL ANALYSIS\n",
      "========================================================================================================================\n",
      "Current ETH Price: $4,404.07\n",
      "Number of ETH Options: 2\n",
      "\n",
      "\n",
      "--- ETH OPTION #1 ---\n",
      "Strike: $3,800.00\n",
      "Size: 200\n",
      "Expiry: 26Sep25 09:00\n",
      "Time to Expiry: 0.0492 years\n",
      "Type: PUT\n",
      "Volatility: 71.10%\n",
      "Current Premium per Contract: $60.65\n",
      "Current Total Position Value: $12,130 ($60.65 × 200)\n",
      "\n",
      "Price Move   ETH Price    Premium      Total Value     Position PnL   \n",
      "(%)          ($)          ($)          (Premium*Size)  ($)            \n",
      "--------------------------------------------------------------------------------\n",
      "-10%       $    3,964   $    170.91   $       34,181   $       22,051\n",
      " -9%       $    4,008   $    155.42   $       31,085   $       18,954\n",
      " -8%       $    4,052   $    141.06   $       28,213   $       16,082\n",
      " -7%       $    4,096   $    127.78   $       25,556   $       13,425\n",
      " -6%       $    4,140   $    115.52   $       23,104   $       10,974\n",
      " -5%       $    4,184   $    104.24   $       20,848   $        8,717\n",
      " -4%       $    4,228   $     93.88   $       18,776   $        6,646\n",
      " -3%       $    4,272   $     84.40   $       16,879   $        4,749\n",
      " -2%       $    4,316   $     75.73   $       15,146   $        3,016\n",
      " -1%       $    4,360   $     67.83   $       13,567   $        1,436\n",
      " +0%       $    4,404   $     60.65   $       12,130   $            0\n",
      " +1%       $    4,448   $     54.14   $       10,827   $       -1,303\n",
      " +2%       $    4,492   $     48.24   $        9,648   $       -2,483\n",
      " +3%       $    4,536   $     42.91   $        8,582   $       -3,548\n",
      " +4%       $    4,580   $     38.11   $        7,622   $       -4,508\n",
      " +5%       $    4,624   $     33.79   $        6,758   $       -5,372\n",
      " +6%       $    4,668   $     29.91   $        5,983   $       -6,147\n",
      " +7%       $    4,712   $     26.44   $        5,288   $       -6,842\n",
      " +8%       $    4,756   $     23.34   $        4,667   $       -7,463\n",
      " +9%       $    4,800   $     20.57   $        4,113   $       -8,017\n",
      "+10%       $    4,844   $     18.10   $        3,619   $       -8,511\n",
      "\n",
      "\n",
      "--- ETH OPTION #2 ---\n",
      "Strike: $5,100.00\n",
      "Size: 500\n",
      "Expiry: 31Oct25 09:00\n",
      "Time to Expiry: 0.1451 years\n",
      "Type: CALL\n",
      "Volatility: 66.92%\n",
      "Current Premium per Contract: $211.05\n",
      "Current Total Position Value: $105,523 ($211.05 × 500)\n",
      "\n",
      "Price Move   ETH Price    Premium      Total Value     Position PnL   \n",
      "(%)          ($)          ($)          (Premium*Size)  ($)            \n",
      "--------------------------------------------------------------------------------\n",
      "-10%       $    3,964   $     97.00   $       48,502   $      -57,021\n",
      " -9%       $    4,008   $    105.84   $       52,918   $      -52,605\n",
      " -8%       $    4,052   $    115.21   $       57,605   $      -47,919\n",
      " -7%       $    4,096   $    125.14   $       62,569   $      -42,955\n",
      " -6%       $    4,140   $    135.63   $       67,816   $      -37,707\n",
      " -5%       $    4,184   $    146.70   $       73,352   $      -32,171\n",
      " -4%       $    4,228   $    158.36   $       79,182   $      -26,341\n",
      " -3%       $    4,272   $    170.62   $       85,310   $      -20,213\n",
      " -2%       $    4,316   $    183.48   $       91,741   $      -13,782\n",
      " -1%       $    4,360   $    196.96   $       98,478   $       -7,046\n",
      " +0%       $    4,404   $    211.05   $      105,523   $            0\n",
      " +1%       $    4,448   $    225.76   $      112,881   $        7,357\n",
      " +2%       $    4,492   $    241.10   $      120,552   $       15,029\n",
      " +3%       $    4,536   $    257.08   $      128,539   $       23,015\n",
      " +4%       $    4,580   $    273.68   $      136,842   $       31,319\n",
      " +5%       $    4,624   $    290.93   $      145,463   $       39,939\n",
      " +6%       $    4,668   $    308.80   $      154,401   $       48,877\n",
      " +7%       $    4,712   $    327.31   $      163,656   $       58,133\n",
      " +8%       $    4,756   $    346.46   $      173,229   $       67,705\n",
      " +9%       $    4,800   $    366.23   $      183,117   $       77,593\n",
      "+10%       $    4,844   $    386.64   $      193,319   $       87,795\n",
      "\n",
      "\n",
      "================================================================================\n",
      "ETH OPTIONS PORTFOLIO SUMMARY - TOTAL PnL BY PRICE MOVE\n",
      "================================================================================\n",
      "Price Move   ETH Price    Total Options PnL    Individual PnL Contributions\n",
      "(%)          ($)          ($)                  (Position #: PnL)\n",
      "----------------------------------------------------------------------------------------------------\n",
      "-10%       $    3,964   $          -34,971   #1: $22,051 | #2: $-57,021\n",
      " -9%       $    4,008   $          -33,651   #1: $18,954 | #2: $-52,605\n",
      " -8%       $    4,052   $          -31,837   #1: $16,082 | #2: $-47,919\n",
      " -7%       $    4,096   $          -29,529   #1: $13,425 | #2: $-42,955\n",
      " -6%       $    4,140   $          -26,734   #1: $10,974 | #2: $-37,707\n",
      " -5%       $    4,184   $          -23,454   #1: $8,717 | #2: $-32,171\n",
      " -4%       $    4,228   $          -19,695   #1: $6,646 | #2: $-26,341\n",
      " -3%       $    4,272   $          -15,464   #1: $4,749 | #2: $-20,213\n",
      " -2%       $    4,316   $          -10,767   #1: $3,016 | #2: $-13,782\n",
      " -1%       $    4,360   $           -5,609   #1: $1,436 | #2: $-7,046\n",
      " +0%       $    4,404   $                0   #1: $0 | #2: $0\n",
      " +1%       $    4,448   $            6,054   #1: $-1,303 | #2: $7,357\n",
      " +2%       $    4,492   $           12,546   #1: $-2,483 | #2: $15,029\n",
      " +3%       $    4,536   $           19,467   #1: $-3,548 | #2: $23,015\n",
      " +4%       $    4,580   $           26,810   #1: $-4,508 | #2: $31,319\n",
      " +5%       $    4,624   $           34,567   #1: $-5,372 | #2: $39,939\n",
      " +6%       $    4,668   $           42,730   #1: $-6,147 | #2: $48,877\n",
      " +7%       $    4,712   $           51,291   #1: $-6,842 | #2: $58,133\n",
      " +8%       $    4,756   $           60,242   #1: $-7,463 | #2: $67,705\n",
      " +9%       $    4,800   $           69,576   #1: $-8,017 | #2: $77,593\n",
      "+10%       $    4,844   $           79,284   #1: $-8,511 | #2: $87,795\n",
      "\n",
      "\n",
      "================================================================================\n",
      "ETH OPTIONS RISK METRICS\n",
      "================================================================================\n",
      "ETH Options PnL at 5% ETH price decline:  $     -23,454\n",
      "ETH Options PnL at 5% ETH price increase: $      34,567\n",
      "ETH Options PnL at 10% ETH price decline: $     -34,971\n",
      "ETH Options PnL at 10% ETH price increase: $      79,284\n",
      "\n"
     ]
    }
   ],
   "source": [
    "# Debug ETH Options - Detailed Tabular Analysis\n",
    "eth_options = df[(df['Token'] == 'ETH') & (df['Position_Type'].str.upper() == 'OPTION')].copy()\n",
    "\n",
    "if len(eth_options) > 0:\n",
    "    print(\"=\" * 120)\n",
    "    print(\"ETH OPTIONS DETAILED DEBUG - PnL ANALYSIS\")\n",
    "    print(\"=\" * 120)\n",
    "    \n",
    "    current_eth_price = eth_options['Current_Price'].iloc[0]\n",
    "    print(f\"Current ETH Price: ${current_eth_price:,.2f}\")\n",
    "    print(f\"Number of ETH Options: {len(eth_options)}\")\n",
    "    print()\n",
    "    \n",
    "    # Create detailed breakdown for each option position\n",
    "    for idx, (_, row) in enumerate(eth_options.iterrows()):\n",
    "        strike = row['Strike']\n",
    "        size = row['Size']\n",
    "        expiry = row['Expiry']\n",
    "        time_to_expiry = row['Time_to_Expiry']\n",
    "        option_type = str(row['Option_Type']).lower() if pd.notna(row['Option_Type']) else 'call'\n",
    "        volatility = row['Volatility'] if pd.notna(row['Volatility']) and row['Volatility'] > 0 else 0.5\n",
    "        \n",
    "        # Clean option type\n",
    "        if 'call' in option_type:\n",
    "            option_type = 'call'\n",
    "        elif 'put' in option_type:\n",
    "            option_type = 'put'\n",
    "        else:\n",
    "            option_type = 'call'\n",
    "        \n",
    "        print(f\"\\n--- ETH OPTION #{idx+1} ---\")\n",
    "        print(f\"Strike: ${strike:,.2f}\")\n",
    "        print(f\"Size: {size:,.0f}\")\n",
    "        print(f\"Expiry: {expiry}\")\n",
    "        print(f\"Time to Expiry: {time_to_expiry:.4f} years\")\n",
    "        print(f\"Type: {option_type.upper()}\")\n",
    "        print(f\"Volatility: {volatility:.2%}\")\n",
    "        \n",
    "        # Calculate current option price for PnL reference\n",
    "        current_option_price = black_scholes_premium(current_eth_price, strike, time_to_expiry, 0.0, volatility, option_type)\n",
    "        current_total_value = current_option_price * size\n",
    "        \n",
    "        print(f\"Current Premium per Contract: ${current_option_price:,.2f}\")\n",
    "        print(f\"Current Total Position Value: ${current_total_value:,.0f} (${current_option_price:,.2f} × {size:,.0f})\")\n",
    "        print()\n",
    "        \n",
    "        # Calculate option prices and PnL at every 1% move from -10% to +10%\n",
    "        price_moves = list(range(-10, 11, 1))  # -10% to +10% in 1% steps\n",
    "        \n",
    "        print(f\"{'Price Move':<12} {'ETH Price':<12} {'Premium':<12} {'Total Value':<15} {'Position PnL':<15}\")\n",
    "        print(f\"{'(%)':<12} {'($)':<12} {'($)':<12} {'(Premium*Size)':<15} {'($)':<15}\")\n",
    "        print(\"-\" * 80)\n",
    "        \n",
    "        for pct_change in price_moves:\n",
    "            multiplier = 1 + (pct_change / 100)\n",
    "            stressed_eth_price = current_eth_price * multiplier\n",
    "            \n",
    "            # Calculate stressed option price (premium per contract)\n",
    "            stressed_option_price = black_scholes_premium(stressed_eth_price, strike, time_to_expiry, 0.0, volatility, option_type)\n",
    "            \n",
    "            # Calculate total position value (premium * size)\n",
    "            total_position_value = stressed_option_price * size\n",
    "            \n",
    "            # Calculate PnL for this position\n",
    "            option_price_change = stressed_option_price - current_option_price\n",
    "            position_pnl = size * option_price_change\n",
    "            \n",
    "            print(f\"{pct_change:>+3d}%       ${stressed_eth_price:>9,.0f}   ${stressed_option_price:>10,.2f}   ${total_position_value:>13,.0f}   ${position_pnl:>13,.0f}\")\n",
    "        \n",
    "        print()\n",
    "    \n",
    "    # Summary table showing total ETH options PnL at each price level\n",
    "    print(\"\\n\" + \"=\" * 80)\n",
    "    print(\"ETH OPTIONS PORTFOLIO SUMMARY - TOTAL PnL BY PRICE MOVE\")\n",
    "    print(\"=\" * 80)\n",
    "    \n",
    "    print(f\"{'Price Move':<12} {'ETH Price':<12} {'Total Options PnL':<20} {'Individual PnL Contributions'}\")\n",
    "    print(f\"{'(%)':<12} {'($)':<12} {'($)':<20} {'(Position #: PnL)'}\")\n",
    "    print(\"-\" * 100)\n",
    "    \n",
    "    for pct_change in price_moves:\n",
    "        multiplier = 1 + (pct_change / 100)\n",
    "        stressed_eth_price = current_eth_price * multiplier\n",
    "        \n",
    "        total_options_pnl = 0.0\n",
    "        individual_pnls = []\n",
    "        \n",
    "        # Calculate PnL for each option\n",
    "        for idx, (_, row) in enumerate(eth_options.iterrows()):\n",
    "            strike = row['Strike']\n",
    "            size = row['Size']\n",
    "            time_to_expiry = row['Time_to_Expiry']\n",
    "            option_type = str(row['Option_Type']).lower() if pd.notna(row['Option_Type']) else 'call'\n",
    "            volatility = row['Volatility'] if pd.notna(row['Volatility']) and row['Volatility'] > 0 else 0.5\n",
    "            \n",
    "            # Clean option type\n",
    "            if 'call' in option_type:\n",
    "                option_type = 'call'\n",
    "            elif 'put' in option_type:\n",
    "                option_type = 'put'\n",
    "            else:\n",
    "                option_type = 'call'\n",
    "            \n",
    "            # Current and stressed option prices\n",
    "            current_option_price = black_scholes_premium(current_eth_price, strike, time_to_expiry, 0.0, volatility, option_type)\n",
    "            stressed_option_price = black_scholes_premium(stressed_eth_price, strike, time_to_expiry, 0.0, volatility, option_type)\n",
    "            \n",
    "            # Position PnL\n",
    "            position_pnl = size * (stressed_option_price - current_option_price)\n",
    "            total_options_pnl += position_pnl\n",
    "            individual_pnls.append(f\"#{idx+1}: ${position_pnl:,.0f}\")\n",
    "        \n",
    "        # Format individual contributions\n",
    "        contributions = \" | \".join(individual_pnls)\n",
    "        if len(contributions) > 50:\n",
    "            contributions = contributions[:47] + \"...\"\n",
    "        \n",
    "        print(f\"{pct_change:>+3d}%       ${stressed_eth_price:>9,.0f}   ${total_options_pnl:>17,.0f}   {contributions}\")\n",
    "    \n",
    "    print(\"\\n\")\n",
    "    \n",
    "    # Additional summary statistics\n",
    "    print(\"=\" * 80)\n",
    "    print(\"ETH OPTIONS RISK METRICS\")\n",
    "    print(\"=\" * 80)\n",
    "    \n",
    "    # Calculate some key risk metrics\n",
    "    pnl_5pct_down = 0.0\n",
    "    pnl_5pct_up = 0.0\n",
    "    pnl_10pct_down = 0.0\n",
    "    pnl_10pct_up = 0.0\n",
    "    \n",
    "    for _, row in eth_options.iterrows():\n",
    "        strike = row['Strike']\n",
    "        size = row['Size']\n",
    "        time_to_expiry = row['Time_to_Expiry']\n",
    "        option_type = str(row['Option_Type']).lower() if pd.notna(row['Option_Type']) else 'call'\n",
    "        volatility = row['Volatility'] if pd.notna(row['Volatility']) and row['Volatility'] > 0 else 0.5\n",
    "        \n",
    "        if 'call' in option_type:\n",
    "            option_type = 'call'\n",
    "        elif 'put' in option_type:\n",
    "            option_type = 'put'\n",
    "        else:\n",
    "            option_type = 'call'\n",
    "        \n",
    "        current_option_price = black_scholes_premium(current_eth_price, strike, time_to_expiry, 0.0, volatility, option_type)\n",
    "        \n",
    "        # 5% moves\n",
    "        price_5pct_down = current_eth_price * 0.95\n",
    "        price_5pct_up = current_eth_price * 1.05\n",
    "        option_price_5pct_down = black_scholes_premium(price_5pct_down, strike, time_to_expiry, 0.0, volatility, option_type)\n",
    "        option_price_5pct_up = black_scholes_premium(price_5pct_up, strike, time_to_expiry, 0.0, volatility, option_type)\n",
    "        \n",
    "        pnl_5pct_down += size * (option_price_5pct_down - current_option_price)\n",
    "        pnl_5pct_up += size * (option_price_5pct_up - current_option_price)\n",
    "        \n",
    "        # 10% moves\n",
    "        price_10pct_down = current_eth_price * 0.90\n",
    "        price_10pct_up = current_eth_price * 1.10\n",
    "        option_price_10pct_down = black_scholes_premium(price_10pct_down, strike, time_to_expiry, 0.0, volatility, option_type)\n",
    "        option_price_10pct_up = black_scholes_premium(price_10pct_up, strike, time_to_expiry, 0.0, volatility, option_type)\n",
    "        \n",
    "        pnl_10pct_down += size * (option_price_10pct_down - current_option_price)\n",
    "        pnl_10pct_up += size * (option_price_10pct_up - current_option_price)\n",
    "    \n",
    "    print(f\"ETH Options PnL at 5% ETH price decline:  ${pnl_5pct_down:>12,.0f}\")\n",
    "    print(f\"ETH Options PnL at 5% ETH price increase: ${pnl_5pct_up:>12,.0f}\")\n",
    "    print(f\"ETH Options PnL at 10% ETH price decline: ${pnl_10pct_down:>12,.0f}\")\n",
    "    print(f\"ETH Options PnL at 10% ETH price increase: ${pnl_10pct_up:>12,.0f}\")\n",
    "    print()\n",
    "    \n",
    "else:\n",
    "    print(\"No ETH options found for debugging.\")"
   ]
  },
  {
   "cell_type": "code",
   "execution_count": 10,
   "metadata": {},
   "outputs": [
    {
     "name": "stdout",
     "output_type": "stream",
     "text": [
      "Finding top PnL contributors...\n",
      "Top 7 PnL contributors: ['ETH', 'ICP', 'SOL', 'BTC', 'OXT', 'XRP', 'NEAR']\n",
      "Current BTC Price: $112,195\n",
      "Current ETH Price: $4,404\n",
      "Generating PnL curves...\n",
      "-10%: $      35,702\n",
      "-9%: $      24,757\n",
      "-8%: $      15,265\n",
      "-7%: $       7,237\n",
      "-6%: $         682\n",
      "-5%: $      -3,221\n",
      "-4%: $      -5,521\n",
      "-3%: $      -6,344\n",
      "-2%: $      -5,694\n",
      "-1%: $      -3,577\n",
      "+0%: $           0\n",
      "+1%: $       5,028\n",
      "+2%: $      11,497\n",
      "+3%: $      19,398\n",
      "+4%: $      28,719\n",
      "+5%: $      39,448\n",
      "+6%: $      51,572\n",
      "+7%: $      65,078\n",
      "+8%: $      79,949\n",
      "+9%: $      96,168\n",
      "+10%: $     113,715\n"
     ]
    },
    {
     "data": {
      "application/vnd.plotly.v1+json": {
       "config": {
        "plotlyServerURL": "https://plot.ly"
       },
       "data": [
        {
         "hovertemplate": "ETH<br>Price Move: %{x}%<br>PnL: $%{y:,.0f}<extra></extra>",
         "line": {
          "color": "#1f77b4",
          "width": 2
         },
         "marker": {
          "color": "#1f77b4",
          "size": 6
         },
         "mode": "lines+markers",
         "name": "ETH",
         "type": "scatter",
         "x": [
          -10,
          -9,
          -8,
          -7,
          -6,
          -5,
          -4,
          -3,
          -2,
          -1,
          0,
          1,
          2,
          3,
          4,
          5,
          6,
          7,
          8,
          9,
          10
         ],
         "y": [
          -9350.284388648543,
          -10593.026539914848,
          -11340.410283381316,
          -11595.320069853387,
          -11361.570471128085,
          -10643.790778934675,
          -9447.313723926884,
          -7778.069943662758,
          -5642.48945348613,
          -3047.411018786873,
          0,
          3492.3250509117206,
          7421.957018050667,
          11781.156263048906,
          16562.09844435688,
          21756.914613812394,
          27357.724189283163,
          33356.66146864727,
          39745.89638775561,
          46517.650237396665,
          53664.20704573106
         ]
        },
        {
         "hovertemplate": "ICP<br>Price Move: %{x}%<br>PnL: $%{y:,.0f}<extra></extra>",
         "line": {
          "color": "#ff7f0e",
          "width": 2
         },
         "marker": {
          "color": "#ff7f0e",
          "size": 6
         },
         "mode": "lines+markers",
         "name": "ICP",
         "type": "scatter",
         "x": [
          -10,
          -9,
          -8,
          -7,
          -6,
          -5,
          -4,
          -3,
          -2,
          -1,
          0,
          1,
          2,
          3,
          4,
          5,
          6,
          7,
          8,
          9,
          10
         ],
         "y": [
          37262.26967420828,
          32349.58385021393,
          27679.540767590166,
          23260.641569604897,
          19101.138782490758,
          15208.94485282457,
          11591.543188048334,
          8255.903943146815,
          5208.406619578012,
          2454.7712951617814,
          0,
          -2151.670590500191,
          -3996.8043421198986,
          -5532.788299477496,
          -6757.842713377263,
          -7671.01874161599,
          -8272.18441903372,
          -8561.999762594687,
          -8541.882099047158,
          -8213.962872686207,
          -7581.037307957999
         ]
        },
        {
         "hovertemplate": "SOL<br>Price Move: %{x}%<br>PnL: $%{y:,.0f}<extra></extra>",
         "line": {
          "color": "#2ca02c",
          "width": 2
         },
         "marker": {
          "color": "#2ca02c",
          "size": 6
         },
         "mode": "lines+markers",
         "name": "SOL",
         "type": "scatter",
         "x": [
          -10,
          -9,
          -8,
          -7,
          -6,
          -5,
          -4,
          -3,
          -2,
          -1,
          0,
          1,
          2,
          3,
          4,
          5,
          6,
          7,
          8,
          9,
          10
         ],
         "y": [
          -20507.118100089705,
          -18456.406290080733,
          -16405.694480071757,
          -14354.982670062815,
          -12304.27086005384,
          -10253.559050044867,
          -8202.847240035893,
          -6152.13543002692,
          -4101.423620017947,
          -2050.7118100089733,
          0,
          2050.7118100089733,
          4101.423620017947,
          6152.13543002692,
          8202.847240035893,
          10253.559050044867,
          12304.27086005384,
          14354.982670062815,
          16405.694480071787,
          18456.406290080762,
          20507.118100089734
         ]
        },
        {
         "hovertemplate": "BTC<br>Price Move: %{x}%<br>PnL: $%{y:,.0f}<extra></extra>",
         "line": {
          "color": "#d62728",
          "width": 2
         },
         "marker": {
          "color": "#d62728",
          "size": 6
         },
         "mode": "lines+markers",
         "name": "BTC",
         "type": "scatter",
         "x": [
          -10,
          -9,
          -8,
          -7,
          -6,
          -5,
          -4,
          -3,
          -2,
          -1,
          0,
          1,
          2,
          3,
          4,
          5,
          6,
          7,
          8,
          9,
          10
         ],
         "y": [
          14972.578714874278,
          13475.320843386862,
          11978.062971899426,
          10480.80510041201,
          8983.547228924575,
          7486.289357437158,
          5989.031485949723,
          4491.773614462288,
          2994.515742974852,
          1497.2578714874355,
          0,
          -1497.2578714874355,
          -2994.515742974852,
          -4491.773614462288,
          -5989.031485949723,
          -7486.289357437158,
          -8983.547228924575,
          -10480.80510041201,
          -11978.062971899446,
          -13475.320843386862,
          -14972.578714874298
         ]
        },
        {
         "hovertemplate": "OXT<br>Price Move: %{x}%<br>PnL: $%{y:,.0f}<extra></extra>",
         "line": {
          "color": "#9467bd",
          "width": 2
         },
         "marker": {
          "color": "#9467bd",
          "size": 6
         },
         "mode": "lines+markers",
         "name": "OXT",
         "type": "scatter",
         "x": [
          -10,
          -9,
          -8,
          -7,
          -6,
          -5,
          -4,
          -3,
          -2,
          -1,
          0,
          1,
          2,
          3,
          4,
          5,
          6,
          7,
          8,
          9,
          10
         ],
         "y": [
          17911.56183928449,
          14685.114259305039,
          11781.515541339042,
          9200.388788837368,
          6940.507205066407,
          5000.023021631983,
          3376.6498104721945,
          2067.801971176764,
          1070.6969311523637,
          382.4260723800245,
          0,
          -79.62714558843534,
          140.44924484078527,
          657.076289187998,
          1467.0223547583685,
          2566.943511088932,
          3953.3384706187853,
          5622.492894688198,
          7570.4143327036845,
          9792.759668199755,
          12284.757679566941
         ]
        },
        {
         "hovertemplate": "XRP<br>Price Move: %{x}%<br>PnL: $%{y:,.0f}<extra></extra>",
         "line": {
          "color": "#8c564b",
          "width": 2
         },
         "marker": {
          "color": "#8c564b",
          "size": 6
         },
         "mode": "lines+markers",
         "name": "XRP",
         "type": "scatter",
         "x": [
          -10,
          -9,
          -8,
          -7,
          -6,
          -5,
          -4,
          -3,
          -2,
          -1,
          0,
          1,
          2,
          3,
          4,
          5,
          6,
          7,
          8,
          9,
          10
         ],
         "y": [
          -7235.696343998272,
          -6512.126709598441,
          -5788.557075198611,
          -5064.987440798791,
          -4341.417806398972,
          -3617.8481719991414,
          -2894.2785375993108,
          -2170.7089031994806,
          -1447.139268799661,
          -723.5696343998305,
          0,
          723.5696343998305,
          1447.139268799661,
          2170.7089031994806,
          2894.2785375993108,
          3617.8481719991414,
          4341.417806398972,
          5064.987440798791,
          5788.5570751986215,
          6512.126709598452,
          7235.696343998283
         ]
        },
        {
         "hovertemplate": "NEAR<br>Price Move: %{x}%<br>PnL: $%{y:,.0f}<extra></extra>",
         "line": {
          "color": "#e377c2",
          "width": 2
         },
         "marker": {
          "color": "#e377c2",
          "size": 6
         },
         "mode": "lines+markers",
         "name": "NEAR",
         "type": "scatter",
         "x": [
          -10,
          -9,
          -8,
          -7,
          -6,
          -5,
          -4,
          -3,
          -2,
          -1,
          0,
          1,
          2,
          3,
          4,
          5,
          6,
          7,
          8,
          9,
          10
         ],
         "y": [
          2591.3787141985285,
          1860.2938475312985,
          1232.6920577965684,
          709.3186150529782,
          290.78898638606734,
          -22.409261936159965,
          -229.91416959333583,
          -331.4867289381118,
          -327.00790742072695,
          -216.47537935603805,
          0,
          322.1979459699519,
          749.7926905085887,
          1282.357092901706,
          1919.3668865059508,
          2660.2050342999355,
          3504.166167463729,
          4450.461082695667,
          5498.221275504808,
          6646.503488259423,
          7894.29425331896
         ]
        },
        {
         "hovertemplate": "Total Portfolio<br>Price Move: %{x}%<br>PnL: $%{y:,.0f}<extra></extra>",
         "line": {
          "color": "black",
          "width": 4
         },
         "marker": {
          "color": "black",
          "size": 8
         },
         "mode": "lines+markers",
         "name": "Total Portfolio",
         "type": "scatter",
         "x": [
          -10,
          -9,
          -8,
          -7,
          -6,
          -5,
          -4,
          -3,
          -2,
          -1,
          0,
          1,
          2,
          3,
          4,
          5,
          6,
          7,
          8,
          9,
          10
         ],
         "y": [
          35702.17806289245,
          24756.565227075538,
          15264.756896620538,
          7237.376592776162,
          682.0623417093072,
          -3221.046448529444,
          -5520.853141703617,
          -6343.876949461548,
          -5693.9152456832,
          -3576.809125022849,
          0,
          5027.865273638748,
          11497.230043188858,
          19397.792481151064,
          28718.52930466127,
          39447.58978338943,
          51572.08830681288,
          65077.834845291785,
          79949.04692166507,
          96168.08461570991,
          113715.24295716213
         ]
        }
       ],
       "layout": {
        "annotations": [
         {
          "bgcolor": "rgba(255,255,255,0.8)",
          "bordercolor": "lightblue",
          "borderwidth": 1,
          "font": {
           "color": "darkblue",
           "size": 8
          },
          "showarrow": false,
          "text": "BTC: $100,975<br>ETH: $3,964",
          "x": -10,
          "xanchor": "center",
          "y": -33929.35420581489,
          "yanchor": "top"
         },
         {
          "bgcolor": "rgba(255,255,255,0.8)",
          "bordercolor": "lightblue",
          "borderwidth": 1,
          "font": {
           "color": "darkblue",
           "size": 8
          },
          "showarrow": false,
          "text": "BTC: $102,097<br>ETH: $4,008",
          "x": -9,
          "xanchor": "center",
          "y": -33929.35420581489,
          "yanchor": "top"
         },
         {
          "bgcolor": "rgba(255,255,255,0.8)",
          "bordercolor": "lightblue",
          "borderwidth": 1,
          "font": {
           "color": "darkblue",
           "size": 8
          },
          "showarrow": false,
          "text": "BTC: $103,219<br>ETH: $4,052",
          "x": -8,
          "xanchor": "center",
          "y": -33929.35420581489,
          "yanchor": "top"
         },
         {
          "bgcolor": "rgba(255,255,255,0.8)",
          "bordercolor": "lightblue",
          "borderwidth": 1,
          "font": {
           "color": "darkblue",
           "size": 8
          },
          "showarrow": false,
          "text": "BTC: $104,341<br>ETH: $4,096",
          "x": -7,
          "xanchor": "center",
          "y": -33929.35420581489,
          "yanchor": "top"
         },
         {
          "bgcolor": "rgba(255,255,255,0.8)",
          "bordercolor": "lightblue",
          "borderwidth": 1,
          "font": {
           "color": "darkblue",
           "size": 8
          },
          "showarrow": false,
          "text": "BTC: $105,463<br>ETH: $4,140",
          "x": -6,
          "xanchor": "center",
          "y": -33929.35420581489,
          "yanchor": "top"
         },
         {
          "bgcolor": "rgba(255,255,255,0.8)",
          "bordercolor": "lightblue",
          "borderwidth": 1,
          "font": {
           "color": "darkblue",
           "size": 8
          },
          "showarrow": false,
          "text": "BTC: $106,585<br>ETH: $4,184",
          "x": -5,
          "xanchor": "center",
          "y": -33929.35420581489,
          "yanchor": "top"
         },
         {
          "bgcolor": "rgba(255,255,255,0.8)",
          "bordercolor": "lightblue",
          "borderwidth": 1,
          "font": {
           "color": "darkblue",
           "size": 8
          },
          "showarrow": false,
          "text": "BTC: $107,707<br>ETH: $4,228",
          "x": -4,
          "xanchor": "center",
          "y": -33929.35420581489,
          "yanchor": "top"
         },
         {
          "bgcolor": "rgba(255,255,255,0.8)",
          "bordercolor": "lightblue",
          "borderwidth": 1,
          "font": {
           "color": "darkblue",
           "size": 8
          },
          "showarrow": false,
          "text": "BTC: $108,829<br>ETH: $4,272",
          "x": -3,
          "xanchor": "center",
          "y": -33929.35420581489,
          "yanchor": "top"
         },
         {
          "bgcolor": "rgba(255,255,255,0.8)",
          "bordercolor": "lightblue",
          "borderwidth": 1,
          "font": {
           "color": "darkblue",
           "size": 8
          },
          "showarrow": false,
          "text": "BTC: $109,951<br>ETH: $4,316",
          "x": -2,
          "xanchor": "center",
          "y": -33929.35420581489,
          "yanchor": "top"
         },
         {
          "bgcolor": "rgba(255,255,255,0.8)",
          "bordercolor": "lightblue",
          "borderwidth": 1,
          "font": {
           "color": "darkblue",
           "size": 8
          },
          "showarrow": false,
          "text": "BTC: $111,073<br>ETH: $4,360",
          "x": -1,
          "xanchor": "center",
          "y": -33929.35420581489,
          "yanchor": "top"
         },
         {
          "bgcolor": "rgba(255,255,255,0.8)",
          "bordercolor": "lightblue",
          "borderwidth": 1,
          "font": {
           "color": "darkblue",
           "size": 8
          },
          "showarrow": false,
          "text": "BTC: $112,195<br>ETH: $4,404",
          "x": 0,
          "xanchor": "center",
          "y": -33929.35420581489,
          "yanchor": "top"
         },
         {
          "bgcolor": "rgba(255,255,255,0.8)",
          "bordercolor": "lightblue",
          "borderwidth": 1,
          "font": {
           "color": "darkblue",
           "size": 8
          },
          "showarrow": false,
          "text": "BTC: $113,317<br>ETH: $4,448",
          "x": 1,
          "xanchor": "center",
          "y": -33929.35420581489,
          "yanchor": "top"
         },
         {
          "bgcolor": "rgba(255,255,255,0.8)",
          "bordercolor": "lightblue",
          "borderwidth": 1,
          "font": {
           "color": "darkblue",
           "size": 8
          },
          "showarrow": false,
          "text": "BTC: $114,439<br>ETH: $4,492",
          "x": 2,
          "xanchor": "center",
          "y": -33929.35420581489,
          "yanchor": "top"
         },
         {
          "bgcolor": "rgba(255,255,255,0.8)",
          "bordercolor": "lightblue",
          "borderwidth": 1,
          "font": {
           "color": "darkblue",
           "size": 8
          },
          "showarrow": false,
          "text": "BTC: $115,561<br>ETH: $4,536",
          "x": 3,
          "xanchor": "center",
          "y": -33929.35420581489,
          "yanchor": "top"
         },
         {
          "bgcolor": "rgba(255,255,255,0.8)",
          "bordercolor": "lightblue",
          "borderwidth": 1,
          "font": {
           "color": "darkblue",
           "size": 8
          },
          "showarrow": false,
          "text": "BTC: $116,683<br>ETH: $4,580",
          "x": 4,
          "xanchor": "center",
          "y": -33929.35420581489,
          "yanchor": "top"
         },
         {
          "bgcolor": "rgba(255,255,255,0.8)",
          "bordercolor": "lightblue",
          "borderwidth": 1,
          "font": {
           "color": "darkblue",
           "size": 8
          },
          "showarrow": false,
          "text": "BTC: $117,805<br>ETH: $4,624",
          "x": 5,
          "xanchor": "center",
          "y": -33929.35420581489,
          "yanchor": "top"
         },
         {
          "bgcolor": "rgba(255,255,255,0.8)",
          "bordercolor": "lightblue",
          "borderwidth": 1,
          "font": {
           "color": "darkblue",
           "size": 8
          },
          "showarrow": false,
          "text": "BTC: $118,927<br>ETH: $4,668",
          "x": 6,
          "xanchor": "center",
          "y": -33929.35420581489,
          "yanchor": "top"
         },
         {
          "bgcolor": "rgba(255,255,255,0.8)",
          "bordercolor": "lightblue",
          "borderwidth": 1,
          "font": {
           "color": "darkblue",
           "size": 8
          },
          "showarrow": false,
          "text": "BTC: $120,049<br>ETH: $4,712",
          "x": 7,
          "xanchor": "center",
          "y": -33929.35420581489,
          "yanchor": "top"
         },
         {
          "bgcolor": "rgba(255,255,255,0.8)",
          "bordercolor": "lightblue",
          "borderwidth": 1,
          "font": {
           "color": "darkblue",
           "size": 8
          },
          "showarrow": false,
          "text": "BTC: $121,171<br>ETH: $4,756",
          "x": 8,
          "xanchor": "center",
          "y": -33929.35420581489,
          "yanchor": "top"
         },
         {
          "bgcolor": "rgba(255,255,255,0.8)",
          "bordercolor": "lightblue",
          "borderwidth": 1,
          "font": {
           "color": "darkblue",
           "size": 8
          },
          "showarrow": false,
          "text": "BTC: $122,293<br>ETH: $4,800",
          "x": 9,
          "xanchor": "center",
          "y": -33929.35420581489,
          "yanchor": "top"
         },
         {
          "bgcolor": "rgba(255,255,255,0.8)",
          "bordercolor": "lightblue",
          "borderwidth": 1,
          "font": {
           "color": "darkblue",
           "size": 8
          },
          "showarrow": false,
          "text": "BTC: $123,414<br>ETH: $4,844",
          "x": 10,
          "xanchor": "center",
          "y": -33929.35420581489,
          "yanchor": "top"
         }
        ],
        "height": 800,
        "hovermode": "x unified",
        "legend": {
         "x": 0.01,
         "xanchor": "left",
         "y": 0.99,
         "yanchor": "top"
        },
        "plot_bgcolor": "white",
        "shapes": [
         {
          "line": {
           "color": "gray",
           "dash": "dash"
          },
          "opacity": 0.5,
          "type": "line",
          "x0": 0,
          "x1": 1,
          "xref": "x domain",
          "y0": 0,
          "y1": 0,
          "yref": "y"
         },
         {
          "line": {
           "color": "gray",
           "dash": "dash"
          },
          "opacity": 0.5,
          "type": "line",
          "x0": 0,
          "x1": 0,
          "xref": "x",
          "y0": 0,
          "y1": 1,
          "yref": "y domain"
         }
        ],
        "showlegend": true,
        "template": {
         "data": {
          "bar": [
           {
            "error_x": {
             "color": "#2a3f5f"
            },
            "error_y": {
             "color": "#2a3f5f"
            },
            "marker": {
             "line": {
              "color": "#E5ECF6",
              "width": 0.5
             },
             "pattern": {
              "fillmode": "overlay",
              "size": 10,
              "solidity": 0.2
             }
            },
            "type": "bar"
           }
          ],
          "barpolar": [
           {
            "marker": {
             "line": {
              "color": "#E5ECF6",
              "width": 0.5
             },
             "pattern": {
              "fillmode": "overlay",
              "size": 10,
              "solidity": 0.2
             }
            },
            "type": "barpolar"
           }
          ],
          "carpet": [
           {
            "aaxis": {
             "endlinecolor": "#2a3f5f",
             "gridcolor": "white",
             "linecolor": "white",
             "minorgridcolor": "white",
             "startlinecolor": "#2a3f5f"
            },
            "baxis": {
             "endlinecolor": "#2a3f5f",
             "gridcolor": "white",
             "linecolor": "white",
             "minorgridcolor": "white",
             "startlinecolor": "#2a3f5f"
            },
            "type": "carpet"
           }
          ],
          "choropleth": [
           {
            "colorbar": {
             "outlinewidth": 0,
             "ticks": ""
            },
            "type": "choropleth"
           }
          ],
          "contour": [
           {
            "colorbar": {
             "outlinewidth": 0,
             "ticks": ""
            },
            "colorscale": [
             [
              0,
              "#0d0887"
             ],
             [
              0.1111111111111111,
              "#46039f"
             ],
             [
              0.2222222222222222,
              "#7201a8"
             ],
             [
              0.3333333333333333,
              "#9c179e"
             ],
             [
              0.4444444444444444,
              "#bd3786"
             ],
             [
              0.5555555555555556,
              "#d8576b"
             ],
             [
              0.6666666666666666,
              "#ed7953"
             ],
             [
              0.7777777777777778,
              "#fb9f3a"
             ],
             [
              0.8888888888888888,
              "#fdca26"
             ],
             [
              1,
              "#f0f921"
             ]
            ],
            "type": "contour"
           }
          ],
          "contourcarpet": [
           {
            "colorbar": {
             "outlinewidth": 0,
             "ticks": ""
            },
            "type": "contourcarpet"
           }
          ],
          "heatmap": [
           {
            "colorbar": {
             "outlinewidth": 0,
             "ticks": ""
            },
            "colorscale": [
             [
              0,
              "#0d0887"
             ],
             [
              0.1111111111111111,
              "#46039f"
             ],
             [
              0.2222222222222222,
              "#7201a8"
             ],
             [
              0.3333333333333333,
              "#9c179e"
             ],
             [
              0.4444444444444444,
              "#bd3786"
             ],
             [
              0.5555555555555556,
              "#d8576b"
             ],
             [
              0.6666666666666666,
              "#ed7953"
             ],
             [
              0.7777777777777778,
              "#fb9f3a"
             ],
             [
              0.8888888888888888,
              "#fdca26"
             ],
             [
              1,
              "#f0f921"
             ]
            ],
            "type": "heatmap"
           }
          ],
          "histogram": [
           {
            "marker": {
             "pattern": {
              "fillmode": "overlay",
              "size": 10,
              "solidity": 0.2
             }
            },
            "type": "histogram"
           }
          ],
          "histogram2d": [
           {
            "colorbar": {
             "outlinewidth": 0,
             "ticks": ""
            },
            "colorscale": [
             [
              0,
              "#0d0887"
             ],
             [
              0.1111111111111111,
              "#46039f"
             ],
             [
              0.2222222222222222,
              "#7201a8"
             ],
             [
              0.3333333333333333,
              "#9c179e"
             ],
             [
              0.4444444444444444,
              "#bd3786"
             ],
             [
              0.5555555555555556,
              "#d8576b"
             ],
             [
              0.6666666666666666,
              "#ed7953"
             ],
             [
              0.7777777777777778,
              "#fb9f3a"
             ],
             [
              0.8888888888888888,
              "#fdca26"
             ],
             [
              1,
              "#f0f921"
             ]
            ],
            "type": "histogram2d"
           }
          ],
          "histogram2dcontour": [
           {
            "colorbar": {
             "outlinewidth": 0,
             "ticks": ""
            },
            "colorscale": [
             [
              0,
              "#0d0887"
             ],
             [
              0.1111111111111111,
              "#46039f"
             ],
             [
              0.2222222222222222,
              "#7201a8"
             ],
             [
              0.3333333333333333,
              "#9c179e"
             ],
             [
              0.4444444444444444,
              "#bd3786"
             ],
             [
              0.5555555555555556,
              "#d8576b"
             ],
             [
              0.6666666666666666,
              "#ed7953"
             ],
             [
              0.7777777777777778,
              "#fb9f3a"
             ],
             [
              0.8888888888888888,
              "#fdca26"
             ],
             [
              1,
              "#f0f921"
             ]
            ],
            "type": "histogram2dcontour"
           }
          ],
          "mesh3d": [
           {
            "colorbar": {
             "outlinewidth": 0,
             "ticks": ""
            },
            "type": "mesh3d"
           }
          ],
          "parcoords": [
           {
            "line": {
             "colorbar": {
              "outlinewidth": 0,
              "ticks": ""
             }
            },
            "type": "parcoords"
           }
          ],
          "pie": [
           {
            "automargin": true,
            "type": "pie"
           }
          ],
          "scatter": [
           {
            "fillpattern": {
             "fillmode": "overlay",
             "size": 10,
             "solidity": 0.2
            },
            "type": "scatter"
           }
          ],
          "scatter3d": [
           {
            "line": {
             "colorbar": {
              "outlinewidth": 0,
              "ticks": ""
             }
            },
            "marker": {
             "colorbar": {
              "outlinewidth": 0,
              "ticks": ""
             }
            },
            "type": "scatter3d"
           }
          ],
          "scattercarpet": [
           {
            "marker": {
             "colorbar": {
              "outlinewidth": 0,
              "ticks": ""
             }
            },
            "type": "scattercarpet"
           }
          ],
          "scattergeo": [
           {
            "marker": {
             "colorbar": {
              "outlinewidth": 0,
              "ticks": ""
             }
            },
            "type": "scattergeo"
           }
          ],
          "scattergl": [
           {
            "marker": {
             "colorbar": {
              "outlinewidth": 0,
              "ticks": ""
             }
            },
            "type": "scattergl"
           }
          ],
          "scattermap": [
           {
            "marker": {
             "colorbar": {
              "outlinewidth": 0,
              "ticks": ""
             }
            },
            "type": "scattermap"
           }
          ],
          "scattermapbox": [
           {
            "marker": {
             "colorbar": {
              "outlinewidth": 0,
              "ticks": ""
             }
            },
            "type": "scattermapbox"
           }
          ],
          "scatterpolar": [
           {
            "marker": {
             "colorbar": {
              "outlinewidth": 0,
              "ticks": ""
             }
            },
            "type": "scatterpolar"
           }
          ],
          "scatterpolargl": [
           {
            "marker": {
             "colorbar": {
              "outlinewidth": 0,
              "ticks": ""
             }
            },
            "type": "scatterpolargl"
           }
          ],
          "scatterternary": [
           {
            "marker": {
             "colorbar": {
              "outlinewidth": 0,
              "ticks": ""
             }
            },
            "type": "scatterternary"
           }
          ],
          "surface": [
           {
            "colorbar": {
             "outlinewidth": 0,
             "ticks": ""
            },
            "colorscale": [
             [
              0,
              "#0d0887"
             ],
             [
              0.1111111111111111,
              "#46039f"
             ],
             [
              0.2222222222222222,
              "#7201a8"
             ],
             [
              0.3333333333333333,
              "#9c179e"
             ],
             [
              0.4444444444444444,
              "#bd3786"
             ],
             [
              0.5555555555555556,
              "#d8576b"
             ],
             [
              0.6666666666666666,
              "#ed7953"
             ],
             [
              0.7777777777777778,
              "#fb9f3a"
             ],
             [
              0.8888888888888888,
              "#fdca26"
             ],
             [
              1,
              "#f0f921"
             ]
            ],
            "type": "surface"
           }
          ],
          "table": [
           {
            "cells": {
             "fill": {
              "color": "#EBF0F8"
             },
             "line": {
              "color": "white"
             }
            },
            "header": {
             "fill": {
              "color": "#C8D4E3"
             },
             "line": {
              "color": "white"
             }
            },
            "type": "table"
           }
          ]
         },
         "layout": {
          "annotationdefaults": {
           "arrowcolor": "#2a3f5f",
           "arrowhead": 0,
           "arrowwidth": 1
          },
          "autotypenumbers": "strict",
          "coloraxis": {
           "colorbar": {
            "outlinewidth": 0,
            "ticks": ""
           }
          },
          "colorscale": {
           "diverging": [
            [
             0,
             "#8e0152"
            ],
            [
             0.1,
             "#c51b7d"
            ],
            [
             0.2,
             "#de77ae"
            ],
            [
             0.3,
             "#f1b6da"
            ],
            [
             0.4,
             "#fde0ef"
            ],
            [
             0.5,
             "#f7f7f7"
            ],
            [
             0.6,
             "#e6f5d0"
            ],
            [
             0.7,
             "#b8e186"
            ],
            [
             0.8,
             "#7fbc41"
            ],
            [
             0.9,
             "#4d9221"
            ],
            [
             1,
             "#276419"
            ]
           ],
           "sequential": [
            [
             0,
             "#0d0887"
            ],
            [
             0.1111111111111111,
             "#46039f"
            ],
            [
             0.2222222222222222,
             "#7201a8"
            ],
            [
             0.3333333333333333,
             "#9c179e"
            ],
            [
             0.4444444444444444,
             "#bd3786"
            ],
            [
             0.5555555555555556,
             "#d8576b"
            ],
            [
             0.6666666666666666,
             "#ed7953"
            ],
            [
             0.7777777777777778,
             "#fb9f3a"
            ],
            [
             0.8888888888888888,
             "#fdca26"
            ],
            [
             1,
             "#f0f921"
            ]
           ],
           "sequentialminus": [
            [
             0,
             "#0d0887"
            ],
            [
             0.1111111111111111,
             "#46039f"
            ],
            [
             0.2222222222222222,
             "#7201a8"
            ],
            [
             0.3333333333333333,
             "#9c179e"
            ],
            [
             0.4444444444444444,
             "#bd3786"
            ],
            [
             0.5555555555555556,
             "#d8576b"
            ],
            [
             0.6666666666666666,
             "#ed7953"
            ],
            [
             0.7777777777777778,
             "#fb9f3a"
            ],
            [
             0.8888888888888888,
             "#fdca26"
            ],
            [
             1,
             "#f0f921"
            ]
           ]
          },
          "colorway": [
           "#636efa",
           "#EF553B",
           "#00cc96",
           "#ab63fa",
           "#FFA15A",
           "#19d3f3",
           "#FF6692",
           "#B6E880",
           "#FF97FF",
           "#FECB52"
          ],
          "font": {
           "color": "#2a3f5f"
          },
          "geo": {
           "bgcolor": "white",
           "lakecolor": "white",
           "landcolor": "#E5ECF6",
           "showlakes": true,
           "showland": true,
           "subunitcolor": "white"
          },
          "hoverlabel": {
           "align": "left"
          },
          "hovermode": "closest",
          "mapbox": {
           "style": "light"
          },
          "paper_bgcolor": "white",
          "plot_bgcolor": "#E5ECF6",
          "polar": {
           "angularaxis": {
            "gridcolor": "white",
            "linecolor": "white",
            "ticks": ""
           },
           "bgcolor": "#E5ECF6",
           "radialaxis": {
            "gridcolor": "white",
            "linecolor": "white",
            "ticks": ""
           }
          },
          "scene": {
           "xaxis": {
            "backgroundcolor": "#E5ECF6",
            "gridcolor": "white",
            "gridwidth": 2,
            "linecolor": "white",
            "showbackground": true,
            "ticks": "",
            "zerolinecolor": "white"
           },
           "yaxis": {
            "backgroundcolor": "#E5ECF6",
            "gridcolor": "white",
            "gridwidth": 2,
            "linecolor": "white",
            "showbackground": true,
            "ticks": "",
            "zerolinecolor": "white"
           },
           "zaxis": {
            "backgroundcolor": "#E5ECF6",
            "gridcolor": "white",
            "gridwidth": 2,
            "linecolor": "white",
            "showbackground": true,
            "ticks": "",
            "zerolinecolor": "white"
           }
          },
          "shapedefaults": {
           "line": {
            "color": "#2a3f5f"
           }
          },
          "ternary": {
           "aaxis": {
            "gridcolor": "white",
            "linecolor": "white",
            "ticks": ""
           },
           "baxis": {
            "gridcolor": "white",
            "linecolor": "white",
            "ticks": ""
           },
           "bgcolor": "#E5ECF6",
           "caxis": {
            "gridcolor": "white",
            "linecolor": "white",
            "ticks": ""
           }
          },
          "title": {
           "x": 0.05
          },
          "xaxis": {
           "automargin": true,
           "gridcolor": "white",
           "linecolor": "white",
           "ticks": "",
           "title": {
            "standoff": 15
           },
           "zerolinecolor": "white",
           "zerolinewidth": 2
          },
          "yaxis": {
           "automargin": true,
           "gridcolor": "white",
           "linecolor": "white",
           "ticks": "",
           "title": {
            "standoff": 15
           },
           "zerolinecolor": "white",
           "zerolinewidth": 2
          }
         }
        },
        "title": {
         "font": {
          "size": 18
         },
         "text": "Portfolio PnL vs Price Movement (Top Contributors)",
         "x": 0.5,
         "xanchor": "center"
        },
        "width": 1400,
        "xaxis": {
         "dtick": 1,
         "gridcolor": "lightgray",
         "gridwidth": 1,
         "range": [
          -10.5,
          10.5
         ],
         "tick0": -10,
         "tickmode": "linear",
         "title": {
          "text": "Price Movement (%)"
         }
        },
        "yaxis": {
         "gridcolor": "lightgray",
         "gridwidth": 1,
         "range": [
          -40640.47225867748,
          127137.47906288732
         ],
         "tickformat": "$,.0f",
         "title": {
          "text": "Portfolio PnL ($)"
         }
        }
       }
      }
     },
     "metadata": {},
     "output_type": "display_data"
    },
    {
     "name": "stdout",
     "output_type": "stream",
     "text": [
      "\n",
      "PnL Summary:\n",
      "Maximum Loss (10% down): $-6,344\n",
      "Maximum Gain (10% up):   $113,715\n",
      "PnL at 0% move:         $0\n"
     ]
    }
   ],
   "source": [
    "import plotly.graph_objects as go\n",
    "import plotly.express as px\n",
    "from plotly.subplots import make_subplots\n",
    "\n",
    "def calculate_token_pnl(token, multiplier):\n",
    "    \"\"\"\n",
    "    Calculate PnL for a specific token at a given price multiplier\n",
    "    \"\"\"\n",
    "    token_data = df[df['Token'] == token]\n",
    "    if len(token_data) == 0:\n",
    "        return 0.0\n",
    "        \n",
    "    current_price = token_data['Current_Price'].iloc[0]\n",
    "    stressed_price = current_price * multiplier\n",
    "    price_change = stressed_price - current_price\n",
    "    \n",
    "    token_pnl = 0.0\n",
    "    \n",
    "    # Spot and Future PnL (linear) - use adjusted delta exposure\n",
    "    spot_future_data = token_data[token_data['Position_Type'].str.upper().isin(['SPOT', 'FUTURE'])]\n",
    "    if len(spot_future_data) > 0:\n",
    "        total_delta_exposure = spot_future_data['Delta_Exposure'].sum()\n",
    "        spot_future_pnl = total_delta_exposure * price_change\n",
    "        token_pnl += spot_future_pnl\n",
    "    \n",
    "    # Options PnL (non-linear)\n",
    "    option_data = token_data[token_data['Position_Type'].str.upper() == 'OPTION']\n",
    "    if len(option_data) > 0:\n",
    "        for _, row in option_data.iterrows():\n",
    "            size = row['Size']\n",
    "            \n",
    "            # Current option price\n",
    "            S_current = current_price\n",
    "            K = row['Strike']\n",
    "            T = row['Time_to_Expiry']\n",
    "            r = 0.0\n",
    "            sigma = row['Volatility'] if pd.notna(row['Volatility']) and row['Volatility'] > 0 else 0.5\n",
    "            option_type = str(row['Option_Type']).lower() if pd.notna(row['Option_Type']) else 'call'\n",
    "            \n",
    "            if 'call' in option_type:\n",
    "                option_type = 'call'\n",
    "            elif 'put' in option_type:\n",
    "                option_type = 'put'\n",
    "            else:\n",
    "                option_type = 'call'\n",
    "            \n",
    "            if pd.notna(S_current) and pd.notna(K) and S_current > 0 and K > 0:\n",
    "                current_option_price = black_scholes_premium(S_current, K, T, r, sigma, option_type)\n",
    "                stressed_option_price = black_scholes_premium(stressed_price, K, T, r, sigma, option_type)\n",
    "                \n",
    "                option_pnl = size * (stressed_option_price - current_option_price)\n",
    "                token_pnl += option_pnl\n",
    "    \n",
    "    return token_pnl\n",
    "\n",
    "def calculate_portfolio_pnl(multiplier):\n",
    "    \"\"\"Calculate total portfolio PnL for a given price multiplier\"\"\"\n",
    "    total_pnl = 0.0\n",
    "    for token in df['Token'].unique():\n",
    "        token_pnl = calculate_token_pnl(token, multiplier)\n",
    "        total_pnl += token_pnl\n",
    "    return total_pnl\n",
    "\n",
    "# Find top 7 PnL contributors at 5% move\n",
    "print(\"Finding top PnL contributors...\")\n",
    "token_pnl_at_5pct = {}\n",
    "for token in df['Token'].unique():\n",
    "    pnl_up = abs(calculate_token_pnl(token, 1.05))\n",
    "    pnl_down = abs(calculate_token_pnl(token, 0.95))\n",
    "    max_pnl = max(pnl_up, pnl_down)\n",
    "    token_pnl_at_5pct[token] = max_pnl\n",
    "\n",
    "# Get top 7 tokens by max PnL impact\n",
    "top_tokens = sorted(token_pnl_at_5pct.items(), key=lambda x: x[1], reverse=True)[:7]\n",
    "top_token_names = [token for token, _ in top_tokens]\n",
    "\n",
    "print(f\"Top 7 PnL contributors: {top_token_names}\")\n",
    "\n",
    "# Get current BTC and ETH prices for reference\n",
    "btc_price = df[df['Token'] == 'BTC']['Current_Price'].iloc[0] if 'BTC' in df['Token'].values else None\n",
    "eth_price = df[df['Token'] == 'ETH']['Current_Price'].iloc[0] if 'ETH' in df['Token'].values else None\n",
    "\n",
    "print(f\"Current BTC Price: ${btc_price:,.0f}\" if btc_price else \"BTC price not found\")\n",
    "print(f\"Current ETH Price: ${eth_price:,.0f}\" if eth_price else \"ETH price not found\")\n",
    "\n",
    "# Generate PnL curves\n",
    "print(\"Generating PnL curves...\")\n",
    "price_moves = list(range(-10, 11, 1))  # -10% to +10% in 1% steps\n",
    "\n",
    "# Colors for different tokens\n",
    "colors = ['#1f77b4', '#ff7f0e', '#2ca02c', '#d62728', '#9467bd', '#8c564b', '#e377c2']\n",
    "\n",
    "# Create interactive Plotly visualization\n",
    "fig = go.Figure()\n",
    "\n",
    "# Add individual token PnL curves\n",
    "for i, token in enumerate(top_token_names):\n",
    "    token_pnl_values = []\n",
    "    for pct_change in price_moves:\n",
    "        multiplier = 1 + (pct_change / 100)\n",
    "        pnl = calculate_token_pnl(token, multiplier)\n",
    "        token_pnl_values.append(pnl)\n",
    "    \n",
    "    fig.add_trace(go.Scatter(\n",
    "        x=price_moves,\n",
    "        y=token_pnl_values,\n",
    "        mode='lines+markers',\n",
    "        name=f'{token}',\n",
    "        line=dict(color=colors[i], width=2),\n",
    "        marker=dict(size=6, color=colors[i]),\n",
    "        hovertemplate=f'{token}<br>Price Move: %{{x}}%<br>PnL: $%{{y:,.0f}}<extra></extra>'\n",
    "    ))\n",
    "\n",
    "# Add total portfolio PnL curve (thicker line)\n",
    "portfolio_pnl_values = []\n",
    "for pct_change in price_moves:\n",
    "    multiplier = 1 + (pct_change / 100)\n",
    "    pnl = calculate_portfolio_pnl(multiplier)\n",
    "    portfolio_pnl_values.append(pnl)\n",
    "    print(f\"{pct_change:+2d}%: ${pnl:>12,.0f}\")\n",
    "\n",
    "fig.add_trace(go.Scatter(\n",
    "    x=price_moves,\n",
    "    y=portfolio_pnl_values,\n",
    "    mode='lines+markers',\n",
    "    name='Total Portfolio',\n",
    "    line=dict(color='black', width=4),\n",
    "    marker=dict(size=8, color='black'),\n",
    "    hovertemplate='Total Portfolio<br>Price Move: %{x}%<br>PnL: $%{y:,.0f}<extra></extra>'\n",
    "))\n",
    "\n",
    "# Add reference lines\n",
    "fig.add_hline(y=0, line_dash=\"dash\", line_color=\"gray\", opacity=0.5)\n",
    "fig.add_vline(x=0, line_dash=\"dash\", line_color=\"gray\", opacity=0.5)\n",
    "\n",
    "# Get the y-axis range to position price references below the chart\n",
    "y_min = min(portfolio_pnl_values + [pnl for token_pnl in [calculate_token_pnl(token, 0.9) for token in top_token_names] for pnl in [token_pnl]])\n",
    "y_max = max(portfolio_pnl_values + [pnl for token_pnl in [calculate_token_pnl(token, 1.1) for token in top_token_names] for pnl in [token_pnl]])\n",
    "y_range = y_max - y_min\n",
    "reference_y_position = y_min - (y_range * 0.1)  # Position 10% below the lowest point\n",
    "\n",
    "# Add BTC and ETH price references at 1% intervals\n",
    "if btc_price and eth_price:\n",
    "    for pct_change in price_moves:\n",
    "        multiplier = 1 + (pct_change / 100)\n",
    "        btc_ref_price = btc_price * multiplier\n",
    "        eth_ref_price = eth_price * multiplier\n",
    "        \n",
    "        # Add annotations for BTC and ETH prices\n",
    "        fig.add_annotation(\n",
    "            x=pct_change,\n",
    "            y=reference_y_position,\n",
    "            text=f\"BTC: ${btc_ref_price:,.0f}<br>ETH: ${eth_ref_price:,.0f}\",\n",
    "            showarrow=False,\n",
    "            font=dict(size=8, color=\"darkblue\"),\n",
    "            bgcolor=\"rgba(255,255,255,0.8)\",\n",
    "            bordercolor=\"lightblue\",\n",
    "            borderwidth=1,\n",
    "            xanchor=\"center\",\n",
    "            yanchor=\"top\"\n",
    "        )\n",
    "\n",
    "# Update layout\n",
    "fig.update_layout(\n",
    "    title={\n",
    "        'text': 'Portfolio PnL vs Price Movement (Top Contributors)',\n",
    "        'x': 0.5,\n",
    "        'xanchor': 'center',\n",
    "        'font': {'size': 18}\n",
    "    },\n",
    "    xaxis_title='Price Movement (%)',\n",
    "    yaxis_title='Portfolio PnL ($)',\n",
    "    xaxis=dict(\n",
    "        tickmode='linear',\n",
    "        tick0=-10,\n",
    "        dtick=1,\n",
    "        gridcolor='lightgray',\n",
    "        gridwidth=1,\n",
    "        range=[-10.5, 10.5]  # Slightly extend range for better visibility\n",
    "    ),\n",
    "    yaxis=dict(\n",
    "        tickformat='$,.0f',\n",
    "        gridcolor='lightgray',\n",
    "        gridwidth=1,\n",
    "        range=[reference_y_position - (y_range * 0.05), y_max + (y_range * 0.1)]  # Extend range to show price references\n",
    "    ),\n",
    "    hovermode='x unified',\n",
    "    width=1400,\n",
    "    height=800,\n",
    "    plot_bgcolor='white',\n",
    "    showlegend=True,\n",
    "    legend=dict(\n",
    "        yanchor=\"top\",\n",
    "        y=0.99,\n",
    "        xanchor=\"left\",\n",
    "        x=0.01\n",
    "    )\n",
    ")\n",
    "\n",
    "# Show the interactive plot\n",
    "fig.show()\n",
    "\n",
    "# Print summary statistics\n",
    "print(f\"\\nPnL Summary:\")\n",
    "print(f\"Maximum Loss (10% down): ${min(portfolio_pnl_values):,.0f}\")\n",
    "print(f\"Maximum Gain (10% up):   ${max(portfolio_pnl_values):,.0f}\")\n",
    "print(f\"PnL at 0% move:         ${portfolio_pnl_values[10]:,.0f}\")  # Index 10 is 0% in the -10 to +10 range"
   ]
  }
 ],
 "metadata": {
  "kernelspec": {
   "display_name": ".venv",
   "language": "python",
   "name": "python3"
  },
  "language_info": {
   "codemirror_mode": {
    "name": "ipython",
    "version": 3
   },
   "file_extension": ".py",
   "mimetype": "text/x-python",
   "name": "python",
   "nbconvert_exporter": "python",
   "pygments_lexer": "ipython3",
   "version": "3.12.4"
  }
 },
 "nbformat": 4,
 "nbformat_minor": 4
}
